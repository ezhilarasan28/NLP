{
 "cells": [
  {
   "cell_type": "markdown",
   "id": "84718577",
   "metadata": {},
   "source": [
    "# LAB - 2 COMPUTING BIGRAM DATA FILE"
   ]
  },
  {
   "cell_type": "markdown",
   "id": "4f92e420",
   "metadata": {},
   "source": [
    "# NAME     : Ezhilarasan C"
   ]
  },
  {
   "cell_type": "markdown",
   "id": "6834acf8",
   "metadata": {},
   "source": [
    "# ROLL NO  : 225229151"
   ]
  },
  {
   "cell_type": "markdown",
   "id": "6a34de5f",
   "metadata": {},
   "source": [
    "# STEP 1 : OPEN THE FILE , count_2w.txt"
   ]
  },
  {
   "cell_type": "code",
   "execution_count": 6,
   "id": "9991934c",
   "metadata": {},
   "outputs": [
    {
     "data": {
      "text/plain": [
       "['0Uplink verified\\t523545\\n',\n",
       " '0km to\\t116103\\n',\n",
       " '1000s of\\t939476\\n',\n",
       " '100s of\\t539389\\n',\n",
       " '100th anniversary\\t158621\\n',\n",
       " '10am to\\t376141\\n',\n",
       " '10th and\\t183715\\n',\n",
       " '10th anniversary\\t242830\\n',\n",
       " '10th century\\t117755\\n',\n",
       " '10th grade\\t174046\\n',\n",
       " '10th in\\t107194\\n',\n",
       " '10th of\\t277970\\n',\n",
       " '11am to\\t127624\\n',\n",
       " '11th and\\t178884\\n',\n",
       " '11th century\\t168601\\n',\n",
       " '11th grade\\t126301\\n',\n",
       " '11th of\\t189501\\n',\n",
       " '125Mbps w\\t108645\\n',\n",
       " '12th and\\t136706\\n',\n",
       " '12th century\\t274359\\n',\n",
       " '12th grade\\t366488\\n',\n",
       " '12th of\\t211371\\n',\n",
       " '13th and\\t134558\\n',\n",
       " '13th century\\t401174\\n',\n",
       " '13th of\\t204438\\n',\n",
       " '14k gold\\t275982\\n',\n",
       " '14kt gold\\t104516\\n',\n",
       " '14th and\\t165714\\n',\n",
       " '14th century\\t351680\\n',\n",
       " '14th of\\t249932\\n',\n",
       " '15th and\\t173563\\n',\n",
       " '15th century\\t429932\\n',\n",
       " '15th day\\t124603\\n',\n",
       " '15th of\\t376136\\n',\n",
       " '16th and\\t188678\\n',\n",
       " '16th century\\t733066\\n',\n",
       " '16th of\\t209985\\n',\n",
       " '16th to\\t111405\\n',\n",
       " '17th and\\t229870\\n',\n",
       " '17th century\\t935624\\n',\n",
       " '17th of\\t203248\\n',\n",
       " '18k gold\\t108682\\n',\n",
       " '18th and\\t279819\\n',\n",
       " '18th birthday\\t103972\\n',\n",
       " '18th centuries\\t114624\\n',\n",
       " '18th century\\t1347520\\n',\n",
       " '18th of\\t205474\\n',\n",
       " '1920s and\\t201458\\n',\n",
       " '1930s and\\t201470\\n',\n",
       " '1940s and\\t170389\\n',\n",
       " '1950s and\\t393926\\n',\n",
       " '1960s and\\t516205\\n',\n",
       " '1970s and\\t549181\\n',\n",
       " '1970s to\\t102387\\n',\n",
       " '1980s and\\t599473\\n',\n",
       " '1980s to\\t116516\\n',\n",
       " '1990s and\\t239890\\n',\n",
       " '19th and\\t397448\\n',\n",
       " '19th centuries\\t135465\\n',\n",
       " '19th century\\t3028799\\n',\n",
       " '19th of\\t211562\\n',\n",
       " '1px solid\\t353472\\n',\n",
       " '1st and\\t675070\\n',\n",
       " '1st century\\t114479\\n',\n",
       " '1st class\\t336408\\n',\n",
       " '1st day\\t224931\\n',\n",
       " '1st ed\\t564270\\n',\n",
       " '1st edition\\t385367\\n',\n",
       " '1st floor\\t318319\\n',\n",
       " '1st for\\t100767\\n',\n",
       " '1st grade\\t124571\\n',\n",
       " '1st half\\t126095\\n',\n",
       " '1st in\\t204580\\n',\n",
       " '1st item\\t164506\\n',\n",
       " '1st month\\t145269\\n',\n",
       " '1st of\\t572039\\n',\n",
       " '1st place\\t336631\\n',\n",
       " '1st quarter\\t140622\\n',\n",
       " '1st round\\t161251\\n',\n",
       " '1st tcm\\t705500\\n',\n",
       " '1st time\\t347093\\n',\n",
       " '1st to\\t227604\\n',\n",
       " '1st year\\t290655\\n',\n",
       " '20s and\\t111681\\n',\n",
       " '20six does\\t183132\\n',\n",
       " '20th and\\t144331\\n',\n",
       " '20th anniversary\\t215022\\n',\n",
       " '20th centuries\\t175216\\n',\n",
       " '20th century\\t3262785\\n',\n",
       " '20th of\\t268218\\n',\n",
       " '21st birthday\\t124863\\n',\n",
       " '21st century\\t2349497\\n',\n",
       " '21st of\\t231405\\n',\n",
       " '22nd of\\t214870\\n',\n",
       " '23rd of\\t269027\\n',\n",
       " '24th of\\t327460\\n',\n",
       " '25th anniversary\\t261023\\n',\n",
       " '25th of\\t397735\\n',\n",
       " '26th of\\t271707\\n',\n",
       " '27th of\\t276619\\n',\n",
       " '28th of\\t268705\\n',\n",
       " '29th of\\t247411\\n',\n",
       " '2d at\\t268493\\n',\n",
       " '2d ed\\t191384\\n',\n",
       " '2nd and\\t522559\\n',\n",
       " '2nd century\\t101359\\n',\n",
       " '2nd day\\t243291\\n',\n",
       " '2nd ed\\t828486\\n',\n",
       " '2nd edition\\t590646\\n',\n",
       " '2nd floor\\t455461\\n',\n",
       " '2nd generation\\t111890\\n',\n",
       " '2nd grade\\t142340\\n',\n",
       " '2nd half\\t164011\\n',\n",
       " '2nd hand\\t145568\\n',\n",
       " '2nd in\\t223137\\n',\n",
       " '2nd mortgage\\t140302\\n',\n",
       " '2nd of\\t225805\\n',\n",
       " '2nd place\\t319158\\n',\n",
       " '2nd quarter\\t129953\\n',\n",
       " '2nd round\\t137201\\n',\n",
       " '2nd time\\t166337\\n',\n",
       " '2nd to\\t117206\\n',\n",
       " '2nd year\\t275672\\n',\n",
       " '2pac bush\\t145934\\n',\n",
       " '2pac shakira\\t113587\\n',\n",
       " '30s and\\t126432\\n',\n",
       " '30th anniversary\\t152142\\n',\n",
       " '30th of\\t314963\\n',\n",
       " '31st of\\t232213\\n',\n",
       " '35mm camera\\t146920\\n',\n",
       " '35mm equivalent\\t220395\\n',\n",
       " '35mm film\\t313694\\n',\n",
       " '3d at\\t108243\\n',\n",
       " '3d incest\\t124889\\n',\n",
       " '3d sex\\t145752\\n',\n",
       " '3d sexvilla\\t179799\\n',\n",
       " '3ds max\\t362411\\n',\n",
       " '3gp video\\t135495\\n',\n",
       " '3rd and\\t373057\\n',\n",
       " '3rd ed\\t386067\\n',\n",
       " '3rd edition\\t286927\\n',\n",
       " '3rd floor\\t272543\\n',\n",
       " '3rd grade\\t204939\\n',\n",
       " '3rd in\\t186332\\n',\n",
       " '3rd of\\t181623\\n',\n",
       " '3rd parties\\t271889\\n',\n",
       " '3rd party\\t994667\\n',\n",
       " '3rd person\\t117459\\n',\n",
       " '3rd place\\t256377\\n',\n",
       " '3rd quarter\\t179541\\n',\n",
       " '3rd time\\t103972\\n',\n",
       " '3rd year\\t224331\\n',\n",
       " '3x optical\\t213089\\n',\n",
       " '40s and\\t125081\\n',\n",
       " '40th anniversary\\t150815\\n',\n",
       " '40th birthday\\t103420\\n',\n",
       " '450px other\\t242761\\n',\n",
       " '4pm today\\t151084\\n',\n",
       " '4th and\\t331175\\n',\n",
       " '4th century\\t161125\\n',\n",
       " '4th ed\\t283450\\n',\n",
       " '4th edition\\t176216\\n',\n",
       " '4th floor\\t190232\\n',\n",
       " '4th grade\\t260966\\n',\n",
       " '4th in\\t138704\\n',\n",
       " '4th of\\t772697\\n',\n",
       " '4th place\\t130184\\n',\n",
       " '4th quarter\\t181953\\n',\n",
       " '4th year\\t194605\\n',\n",
       " '4x digital\\t100536\\n',\n",
       " '50s and\\t143480\\n',\n",
       " '50th anniversary\\t397417\\n',\n",
       " '50th birthday\\t129339\\n',\n",
       " '50th level\\t320144\\n',\n",
       " '55mm lens\\t109010\\n',\n",
       " '56k modem\\t148295\\n',\n",
       " '5mgwhere phentermine\\t209898\\n',\n",
       " '5pm on\\t100466\\n',\n",
       " '5th and\\t290752\\n',\n",
       " '5th century\\t150727\\n',\n",
       " '5th ed\\t187136\\n',\n",
       " '5th edition\\t132328\\n',\n",
       " '5th floor\\t138466\\n',\n",
       " '5th grade\\t277208\\n',\n",
       " '5th in\\t106943\\n',\n",
       " '5th of\\t204821\\n',\n",
       " '5th place\\t106732\\n',\n",
       " '5y max\\t182872\\n',\n",
       " '600px x\\t294209\\n',\n",
       " '60s and\\t188001\\n',\n",
       " '60th anniversary\\t170860\\n',\n",
       " '64k colors\\t223725\\n',\n",
       " '6th and\\t176940\\n',\n",
       " '6th century\\t138160\\n',\n",
       " '6th ed\\t219142\\n',\n",
       " '6th grade\\t326273\\n',\n",
       " '6th in\\t104599\\n',\n",
       " '6th of\\t174234\\n',\n",
       " '70s and\\t171300\\n',\n",
       " '7Uplink begun\\t526965\\n',\n",
       " '7th and\\t249229\\n',\n",
       " '7th century\\t129058\\n',\n",
       " '7th grade\\t232691\\n',\n",
       " '7th of\\t159103\\n',\n",
       " '80s and\\t180456\\n',\n",
       " '8am to\\t364011\\n',\n",
       " '8th and\\t162294\\n',\n",
       " '8th century\\t112618\\n',\n",
       " '8th grade\\t431873\\n',\n",
       " '8th of\\t176511\\n',\n",
       " '8th street\\t1340022\\n',\n",
       " '9am and\\t101170\\n',\n",
       " '9am to\\t580604\\n',\n",
       " '9th and\\t217605\\n',\n",
       " '9th century\\t119203\\n',\n",
       " '9th grade\\t335576\\n',\n",
       " '9th of\\t165004\\n',\n",
       " '9th to\\t148355\\n',\n",
       " '<S> a\\t99895687\\n',\n",
       " '<S> aa\\t356666\\n',\n",
       " '<S> aaa\\t220983\\n',\n",
       " '<S> aaron\\t179602\\n',\n",
       " '<S> ab\\t957796\\n',\n",
       " '<S> abandoned\\t159169\\n',\n",
       " '<S> abc\\t232886\\n',\n",
       " '<S> abdominal\\t110537\\n',\n",
       " '<S> abilities\\t194460\\n',\n",
       " '<S> ability\\t1499779\\n',\n",
       " '<S> able\\t2463349\\n',\n",
       " '<S> ables\\t132740\\n',\n",
       " '<S> ably\\t138468\\n',\n",
       " '<S> abnormal\\t154271\\n',\n",
       " '<S> abortion\\t146308\\n',\n",
       " '<S> about\\t18735796\\n',\n",
       " '<S> above\\t2623158\\n',\n",
       " '<S> abroad\\t172067\\n',\n",
       " '<S> abs\\t160040\\n',\n",
       " '<S> absence\\t455638\\n',\n",
       " '<S> absent\\t1868806\\n',\n",
       " '<S> absolute\\t391172\\n',\n",
       " '<S> absolutely\\t244161\\n',\n",
       " '<S> absorption\\t211659\\n',\n",
       " '<S> abstract\\t629643\\n',\n",
       " '<S> abundance\\t175724\\n',\n",
       " '<S> abuse\\t433030\\n',\n",
       " '<S> ac\\t642584\\n',\n",
       " '<S> academic\\t1103209\\n',\n",
       " '<S> academics\\t132504\\n',\n",
       " '<S> acc\\t168248\\n',\n",
       " '<S> accelerated\\t134180\\n',\n",
       " '<S> acceleration\\t145653\\n',\n",
       " '<S> accept\\t593051\\n',\n",
       " '<S> acceptable\\t525554\\n',\n",
       " '<S> acceptance\\t370724\\n',\n",
       " '<S> accepted\\t986037\\n',\n",
       " '<S> accepting\\t134918\\n',\n",
       " '<S> accepts\\t127812\\n',\n",
       " '<S> access\\t3269114\\n',\n",
       " '<S> accessed\\t192969\\n',\n",
       " '<S> accessibility\\t389718\\n',\n",
       " '<S> accessible\\t438543\\n',\n",
       " '<S> accessing\\t164738\\n',\n",
       " '<S> accession\\t186448\\n',\n",
       " '<S> accessories\\t2317128\\n',\n",
       " '<S> accessory\\t163288\\n',\n",
       " '<S> accident\\t331416\\n',\n",
       " '<S> accidents\\t172404\\n',\n",
       " '<S> accommodate\\t309325\\n',\n",
       " '<S> accommodation\\t873097\\n',\n",
       " '<S> accommodations\\t177521\\n',\n",
       " '<S> accompanied\\t272293\\n',\n",
       " '<S> accompanying\\t179382\\n',\n",
       " '<S> accomplish\\t176222\\n',\n",
       " '<S> accomplished\\t290990\\n',\n",
       " '<S> accomplishments\\t115882\\n',\n",
       " '<S> accordance\\t1341202\\n',\n",
       " '<S> according\\t1474717\\n',\n",
       " '<S> accordingly\\t253576\\n',\n",
       " '<S> account\\t2056166\\n',\n",
       " '<S> accountability\\t372647\\n',\n",
       " '<S> accountable\\t135500\\n',\n",
       " '<S> accounted\\t214046\\n',\n",
       " '<S> accounting\\t1584438\\n',\n",
       " '<S> accounts\\t653955\\n',\n",
       " '<S> accreditation\\t201577\\n',\n",
       " '<S> accredited\\t169583\\n',\n",
       " '<S> accumulated\\t158343\\n',\n",
       " '<S> accumulation\\t176053\\n',\n",
       " '<S> accuracy\\t490844\\n',\n",
       " '<S> accurate\\t488145\\n',\n",
       " '<S> accurately\\t235270\\n',\n",
       " '<S> ace\\t192180\\n',\n",
       " '<S> acer\\t152242\\n',\n",
       " '<S> achieve\\t820986\\n',\n",
       " '<S> achieved\\t775110\\n',\n",
       " '<S> achievement\\t520118\\n',\n",
       " '<S> achievements\\t187107\\n',\n",
       " '<S> achieving\\t343105\\n',\n",
       " '<S> acid\\t389618\\n',\n",
       " '<S> ack\\t140437\\n',\n",
       " '<S> acknowledge\\t183431\\n',\n",
       " '<S> acknowledged\\t215400\\n',\n",
       " '<S> acne\\t146970\\n',\n",
       " '<S> acoustic\\t182317\\n',\n",
       " '<S> acquire\\t218239\\n',\n",
       " '<S> acquired\\t366916\\n',\n",
       " '<S> acquiring\\t104418\\n',\n",
       " '<S> acquisition\\t571875\\n',\n",
       " '<S> acquisitions\\t129810\\n',\n",
       " '<S> acre\\t117592\\n',\n",
       " '<S> acres\\t280416\\n',\n",
       " '<S> across\\t1394959\\n',\n",
       " '<S> acrylic\\t116526\\n',\n",
       " '<S> act\\t713931\\n',\n",
       " '<S> acting\\t331781\\n',\n",
       " '<S> action\\t2526716\\n',\n",
       " '<S> actions\\t1074536\\n',\n",
       " '<S> activate\\t112707\\n',\n",
       " '<S> activated\\t168723\\n',\n",
       " '<S> activation\\t262379\\n',\n",
       " '<S> active\\t1657861\\n',\n",
       " '<S> actively\\t245791\\n',\n",
       " '<S> activities\\t3454107\\n',\n",
       " '<S> activity\\t1732379\\n',\n",
       " '<S> actor\\t130216\\n',\n",
       " '<S> actors\\t169943\\n',\n",
       " '<S> acts\\t286662\\n',\n",
       " '<S> actual\\t801581\\n',\n",
       " '<S> actually\\t981878\\n',\n",
       " '<S> acute\\t231283\\n',\n",
       " '<S> ad\\t1359433\\n',\n",
       " '<S> adam\\t294475\\n',\n",
       " '<S> adapt\\t108056\\n',\n",
       " '<S> adaptation\\t166290\\n',\n",
       " '<S> adapted\\t181688\\n',\n",
       " '<S> adapter\\t109853\\n',\n",
       " '<S> adaptive\\t149795\\n',\n",
       " '<S> add\\t11563271\\n',\n",
       " '<S> added\\t2542261\\n',\n",
       " '<S> adding\\t850251\\n',\n",
       " '<S> addition\\t1783811\\n',\n",
       " '<S> additional\\t2934834\\n',\n",
       " '<S> additions\\t128690\\n',\n",
       " '<S> address\\t2810728\\n',\n",
       " '<S> addressed\\t657578\\n',\n",
       " '<S> addresses\\t463535\\n',\n",
       " '<S> addressing\\t354957\\n',\n",
       " '<S> adds\\t168990\\n',\n",
       " '<S> adelaide\\t105671\\n',\n",
       " '<S> adequate\\t643401\\n',\n",
       " '<S> adequately\\t227048\\n',\n",
       " '<S> adidas\\t1637108\\n',\n",
       " '<S> adipex\\t498204\\n',\n",
       " '<S> adj\\t188639\\n',\n",
       " '<S> adjacent\\t356437\\n',\n",
       " '<S> adjust\\t203531\\n',\n",
       " '<S> adjustable\\t185493\\n',\n",
       " '<S> adjusted\\t357332\\n',\n",
       " '<S> adjustment\\t441932\\n',\n",
       " '<S> adjustments\\t292370\\n',\n",
       " '<S> adland\\t102183\\n',\n",
       " '<S> admin\\t1637136\\n',\n",
       " '<S> administer\\t143052\\n',\n",
       " '<S> administered\\t329331\\n',\n",
       " '<S> administering\\t116652\\n',\n",
       " '<S> administration\\t1123653\\n',\n",
       " '<S> administrative\\t1137463\\n',\n",
       " '<S> administrator\\t349322\\n',\n",
       " '<S> administrators\\t268932\\n',\n",
       " '<S> admission\\t366432\\n',\n",
       " '<S> admissions\\t201650\\n',\n",
       " '<S> admitted\\t204618\\n',\n",
       " '<S> adobe\\t145226\\n',\n",
       " '<S> adolescents\\t117637\\n',\n",
       " '<S> adopt\\t337371\\n',\n",
       " '<S> adopted\\t738649\\n',\n",
       " '<S> adopting\\t126087\\n',\n",
       " '<S> adoption\\t526701\\n',\n",
       " '<S> adrian\\t158482\\n',\n",
       " '<S> ads\\t254556\\n',\n",
       " '<S> adsl\\t144719\\n',\n",
       " '<S> adult\\t1723069\\n',\n",
       " '<S> adults\\t494434\\n',\n",
       " '<S> advance\\t605769\\n',\n",
       " '<S> advanced\\t4619263\\n',\n",
       " '<S> advancement\\t104902\\n',\n",
       " '<S> advances\\t167595\\n',\n",
       " '<S> advantage\\t605383\\n',\n",
       " '<S> advantages\\t304482\\n',\n",
       " '<S> adventure\\t221061\\n',\n",
       " '<S> adverse\\t383194\\n',\n",
       " '<S> adversely\\t129780\\n',\n",
       " '<S> advertise\\t1176197\\n',\n",
       " '<S> advertisement\\t5857304\\n',\n",
       " '<S> advertisements\\t235820\\n',\n",
       " '<S> advertising\\t1150684\\n',\n",
       " '<S> advertisment\\t220848\\n',\n",
       " '<S> advice\\t722543\\n',\n",
       " '<S> advise\\t180647\\n',\n",
       " '<S> advised\\t178266\\n',\n",
       " '<S> advising\\t124635\\n',\n",
       " '<S> advisor\\t128130\\n',\n",
       " '<S> advisory\\t214885\\n',\n",
       " '<S> advocacy\\t216108\\n',\n",
       " '<S> advocate\\t113229\\n',\n",
       " '<S> advocates\\t103152\\n',\n",
       " '<S> ae\\t1142873\\n',\n",
       " '<S> aerial\\t118131\\n',\n",
       " '<S> aerospace\\t231238\\n',\n",
       " '<S> af\\t214897\\n',\n",
       " '<S> aff\\t466050\\n',\n",
       " '<S> affairs\\t146225\\n',\n",
       " '<S> affect\\t596268\\n',\n",
       " '<S> affected\\t792531\\n',\n",
       " '<S> affecting\\t259583\\n',\n",
       " '<S> affects\\t189251\\n',\n",
       " '<S> affiliate\\t377379\\n',\n",
       " '<S> affiliated\\t126624\\n',\n",
       " '<S> affiliates\\t266171\\n',\n",
       " '<S> afford\\t115556\\n',\n",
       " '<S> affordable\\t461633\\n',\n",
       " '<S> affx\\t240606\\n',\n",
       " '<S> africa\\t266205\\n',\n",
       " '<S> african\\t213758\\n',\n",
       " '<S> after\\t5000312\\n',\n",
       " '<S> afternoon\\t207956\\n',\n",
       " '<S> ag\\t252654\\n',\n",
       " '<S> again\\t1157069\\n',\n",
       " '<S> against\\t2118060\\n',\n",
       " '<S> age\\t2529960\\n',\n",
       " '<S> aged\\t448756\\n',\n",
       " '<S> agement\\t341624\\n',\n",
       " '<S> agencies\\t1357618\\n',\n",
       " '<S> agency\\t1159636\\n',\n",
       " '<S> agenda\\t378504\\n',\n",
       " '<S> agent\\t663593\\n',\n",
       " '<S> agents\\t531849\\n',\n",
       " '<S> ages\\t399549\\n',\n",
       " '<S> aggregate\\t339854\\n',\n",
       " '<S> aggressive\\t151121\\n',\n",
       " '<S> aging\\t181837\\n',\n",
       " '<S> ago\\t372270\\n',\n",
       " '<S> agree\\t1351891\\n',\n",
       " '<S> agreed\\t766214\\n',\n",
       " '<S> agreement\\t1529226\\n',\n",
       " '<S> agreements\\t641995\\n',\n",
       " '<S> agrees\\t135392\\n',\n",
       " '<S> agricultural\\t714130\\n',\n",
       " '<S> agriculture\\t661241\\n',\n",
       " '<S> ah\\t460512\\n',\n",
       " '<S> ahead\\t220659\\n',\n",
       " '<S> ahh\\t121062\\n',\n",
       " '<S> ai\\t321119\\n',\n",
       " '<S> aid\\t367622\\n',\n",
       " '<S> aids\\t110300\\n',\n",
       " '<S> aim\\t299160\\n',\n",
       " '<S> aimed\\t194904\\n',\n",
       " '<S> aims\\t189511\\n',\n",
       " '<S> air\\t1964999\\n',\n",
       " '<S> aircraft\\t421879\\n',\n",
       " '<S> airfares\\t115575\\n',\n",
       " '<S> airline\\t291271\\n',\n",
       " '<S> airplane\\t112886\\n',\n",
       " '<S> airport\\t402149\\n',\n",
       " '<S> airports\\t124501\\n',\n",
       " '<S> aj\\t118492\\n',\n",
       " '<S> ak\\t116797\\n',\n",
       " '<S> aka\\t638762\\n',\n",
       " '<S> al\\t3538049\\n',\n",
       " '<S> alabama\\t120867\\n',\n",
       " '<S> alan\\t202116\\n',\n",
       " '<S> alarm\\t226513\\n',\n",
       " '<S> alaska\\t174012\\n',\n",
       " '<S> album\\t469243\\n',\n",
       " '<S> albums\\t769486\\n',\n",
       " '<S> alcohol\\t541645\\n',\n",
       " '<S> alert\\t214314\\n',\n",
       " '<S> alex\\t304327\\n',\n",
       " '<S> algebra\\t145999\\n',\n",
       " '<S> algorithm\\t594888\\n',\n",
       " '<S> algorithms\\t293824\\n',\n",
       " '<S> ali\\t101243\\n',\n",
       " '<S> alias\\t159703\\n',\n",
       " '<S> alien\\t157032\\n',\n",
       " '<S> align\\t208772\\n',\n",
       " '<S> aligned\\t103578\\n',\n",
       " '<S> alignment\\t211449\\n',\n",
       " '<S> all\\t18276241\\n',\n",
       " '<S> alle\\t100843\\n',\n",
       " '<S> alleged\\t153476\\n',\n",
       " '<S> allocate\\t117145\\n',\n",
       " '<S> allocated\\t309071\\n',\n",
       " '<S> allocation\\t438256\\n',\n",
       " '<S> allocations\\t119177\\n',\n",
       " '<S> allow\\t1212823\\n',\n",
       " '<S> allowable\\t118764\\n',\n",
       " '<S> allowance\\t190587\\n',\n",
       " '<S> allowances\\t122412\\n',\n",
       " '<S> allowed\\t815056\\n',\n",
       " '<S> allowing\\t497999\\n',\n",
       " '<S> allows\\t925872\\n',\n",
       " '<S> ally\\t533970\\n',\n",
       " '<S> almost\\t918672\\n',\n",
       " '<S> alone\\t455098\\n',\n",
       " '<S> along\\t1336752\\n',\n",
       " '<S> alpha\\t642985\\n',\n",
       " '<S> alphabetical\\t130783\\n',\n",
       " '<S> alprazolam\\t140520\\n',\n",
       " '<S> already\\t1279457\\n',\n",
       " '<S> als\\t311228\\n',\n",
       " '<S> also\\t9210160\\n',\n",
       " '<S> alt\\t545732\\n',\n",
       " '<S> alter\\t162944\\n',\n",
       " '<S> altered\\t140424\\n',\n",
       " '<S> alternate\\t593292\\n',\n",
       " '<S> alternative\\t1405657\\n',\n",
       " '<S> alternatively\\t109097\\n',\n",
       " '<S> alternatives\\t392150\\n',\n",
       " '<S> although\\t1456760\\n',\n",
       " '<S> altitude\\t105821\\n',\n",
       " '<S> aluminium\\t118595\\n',\n",
       " '<S> aluminum\\t253724\\n',\n",
       " '<S> alumni\\t236980\\n',\n",
       " '<S> always\\t1368983\\n',\n",
       " '<S> am\\t1596465\\n',\n",
       " '<S> amanda\\t146535\\n',\n",
       " '<S> amateur\\t1252215\\n',\n",
       " '<S> amazing\\t273854\\n',\n",
       " '<S> amazon\\t200366\\n',\n",
       " '<S> amber\\t122804\\n',\n",
       " '<S> ambien\\t495544\\n',\n",
       " '<S> ambient\\t190084\\n',\n",
       " '<S> amd\\t228132\\n',\n",
       " '<S> amend\\t178546\\n',\n",
       " '<S> amended\\t871828\\n',\n",
       " '<S> amending\\t245532\\n',\n",
       " '<S> amendment\\t411515\\n',\n",
       " '<S> amendments\\t362347\\n',\n",
       " '<S> america\\t145391\\n',\n",
       " '<S> american\\t852227\\n',\n",
       " '<S> amino\\t149312\\n',\n",
       " '<S> among\\t1891706\\n',\n",
       " '<S> amongst\\t173752\\n',\n",
       " '<S> amortization\\t116446\\n',\n",
       " '<S> amount\\t2328470\\n',\n",
       " '<S> amounts\\t666285\\n',\n",
       " '<S> amp\\t2792225\\n',\n",
       " '<S> ample\\t219217\\n',\n",
       " '<S> amplitude\\t194843\\n',\n",
       " '<S> amsterdam\\t232240\\n',\n",
       " '<S> amy\\t151080\\n',\n",
       " '<S> amz\\t109321\\n',\n",
       " '<S> an\\t15282924\\n',\n",
       " '<S> ana\\t120916\\n',\n",
       " '<S> anal\\t751355\\n',\n",
       " '<S> analog\\t206930\\n',\n",
       " '<S> analyse\\t156586\\n',\n",
       " '<S> analysed\\t101292\\n',\n",
       " '<S> analyses\\t396036\\n',\n",
       " '<S> analysis\\t2642717\\n',\n",
       " '<S> analytical\\t251967\\n',\n",
       " '<S> analyze\\t282660\\n',\n",
       " '<S> analyzed\\t245259\\n',\n",
       " '<S> analyzing\\t142722\\n',\n",
       " '<S> ance\\t741388\\n',\n",
       " '<S> anchor\\t808429\\n',\n",
       " '<S> ancient\\t220611\\n',\n",
       " '<S> and\\t261891475\\n',\n",
       " '<S> andale\\t106945\\n',\n",
       " '<S> andrew\\t214117\\n',\n",
       " '<S> andy\\t223765\\n',\n",
       " '<S> angel\\t309214\\n',\n",
       " '<S> angle\\t364879\\n',\n",
       " '<S> angles\\t112669\\n',\n",
       " '<S> angry\\t103525\\n',\n",
       " '<S> angular\\t104066\\n',\n",
       " '<S> animal\\t992799\\n',\n",
       " '<S> animals\\t696382\\n',\n",
       " '<S> animated\\t200317\\n',\n",
       " '<S> animation\\t204869\\n',\n",
       " '<S> anime\\t541991\\n',\n",
       " '<S> ann\\t118229\\n',\n",
       " '<S> anna\\t153228\\n',\n",
       " '<S> anne\\t115559\\n',\n",
       " '<S> anniversary\\t242626\\n',\n",
       " '<S> announce\\t125788\\n',\n",
       " '<S> announced\\t383874\\n',\n",
       " '<S> announcement\\t201231\\n',\n",
       " '<S> announcements\\t309818\\n',\n",
       " '<S> annual\\t1516957\\n',\n",
       " '<S> annually\\t371472\\n',\n",
       " '<S> anon\\t148821\\n',\n",
       " '<S> anonymous\\t599924\\n',\n",
       " '<S> another\\t3095159\\n',\n",
       " '<S> ans\\t132043\\n',\n",
       " '<S> answer\\t783125\\n',\n",
       " '<S> answered\\t189549\\n',\n",
       " '<S> answering\\t146791\\n',\n",
       " '<S> answers\\t336975\\n',\n",
       " '<S> ant\\t316150\\n',\n",
       " '<S> antenna\\t153725\\n',\n",
       " '<S> anthony\\t117521\\n',\n",
       " '<S> anti\\t1022749\\n',\n",
       " '<S> antibody\\t112880\\n',\n",
       " '<S> anticipated\\t322141\\n',\n",
       " '<S> antique\\t568593\\n',\n",
       " '<S> antiques\\t111757\\n',\n",
       " '<S> anxiety\\t201544\\n',\n",
       " '<S> any\\t8663704\\n',\n",
       " '<S> anybody\\t166342\\n',\n",
       " '<S> anyone\\t971696\\n',\n",
       " '<S> anything\\t676780\\n',\n",
       " '<S> anyway\\t588351\\n',\n",
       " '<S> anyways\\t197606\\n',\n",
       " '<S> anywhere\\t201765\\n',\n",
       " '<S> aol\\t131132\\n',\n",
       " '<S> ap\\t281804\\n',\n",
       " '<S> apache\\t218354\\n',\n",
       " '<S> apart\\t183335\\n',\n",
       " '<S> apartment\\t383143\\n',\n",
       " '<S> apartments\\t246782\\n',\n",
       " '<S> apotheon\\t117438\\n',\n",
       " '<S> app\\t214221\\n',\n",
       " '<S> apparatus\\t140492\\n',\n",
       " '<S> apparel\\t473451\\n',\n",
       " '<S> apparent\\t258627\\n',\n",
       " '<S> apparently\\t298525\\n',\n",
       " '<S> appeal\\t411481\\n',\n",
       " '<S> appeals\\t134287\\n',\n",
       " '<S> appear\\t701660\\n',\n",
       " '<S> appearance\\t303642\\n',\n",
       " '<S> appeared\\t286526\\n',\n",
       " '<S> appearing\\t115934\\n',\n",
       " '<S> appears\\t756669\\n',\n",
       " '<S> append\\t157534\\n',\n",
       " '<S> appendix\\t143220\\n',\n",
       " '<S> appetizer\\t135337\\n',\n",
       " '<S> apple\\t600451\\n',\n",
       " '<S> appliance\\t110924\\n',\n",
       " '<S> appliances\\t210802\\n',\n",
       " '<S> applicability\\t106086\\n',\n",
       " '<S> applicable\\t1196123\\n',\n",
       " '<S> applicant\\t594392\\n',\n",
       " '<S> applicants\\t316288\\n',\n",
       " '<S> application\\t5647400\\n',\n",
       " '<S> applications\\t2124179\\n',\n",
       " '<S> applied\\t1117292\\n',\n",
       " '<S> applies\\t403055\\n',\n",
       " '<S> apply\\t1671834\\n',\n",
       " '<S> applying\\t414765\\n',\n",
       " '<S> appoint\\t107988\\n',\n",
       " '<S> appointed\\t492178\\n',\n",
       " '<S> appointment\\t478409\\n',\n",
       " '<S> appointments\\t188287\\n',\n",
       " '<S> appraisal\\t138082\\n',\n",
       " '<S> appreciate\\t185951\\n',\n",
       " '<S> appreciated\\t106169\\n',\n",
       " '<S> appreciation\\t197497\\n',\n",
       " '<S> approach\\t2039535\\n',\n",
       " '<S> approaches\\t742662\\n',\n",
       " '<S> approaching\\t106402\\n',\n",
       " '<S> appropriate\\t3354096\\n',\n",
       " '<S> appropriately\\t254718\\n',\n",
       " '<S> appropriation\\t151402\\n',\n",
       " '<S> appropriations\\t121217\\n',\n",
       " '<S> approval\\t1045759\\n',\n",
       " '<S> approve\\t250140\\n',\n",
       " '<S> approved\\t1588593\\n',\n",
       " '<S> approx\\t336463\\n',\n",
       " '<S> approximate\\t198804\\n',\n",
       " '<S> approximately\\t1621433\\n',\n",
       " '<S> approximation\\t213765\\n',\n",
       " '<S> apr\\t130307\\n',\n",
       " '<S> april\\t186822\\n',\n",
       " '<S> apt\\t163086\\n',\n",
       " '<S> aquatic\\t160276\\n',\n",
       " '<S> ar\\t808984\\n',\n",
       " '<S> arbitrary\\t185639\\n',\n",
       " '<S> arbitration\\t133428\\n',\n",
       " '<S> arc\\t154301\\n',\n",
       " '<S> arch\\t156950\\n',\n",
       " '<S> architect\\t131280\\n',\n",
       " '<S> architectural\\t201330\\n',\n",
       " '<S> architecture\\t654715\\n',\n",
       " '<S> archive\\t1415231\\n',\n",
       " '<S> archives\\t1495912\\n',\n",
       " '<S> are\\t26543233\\n',\n",
       " '<S> area\\t2970691\\n',\n",
       " '<S> areas\\t2523938\\n',\n",
       " '<S> arg\\t191451\\n',\n",
       " '<S> argue\\t130488\\n',\n",
       " '<S> argued\\t159775\\n',\n",
       " '<S> argument\\t428723\\n',\n",
       " '<S> arguments\\t302581\\n',\n",
       " '<S> arise\\t182310\\n',\n",
       " '<S> arising\\t234425\\n',\n",
       " '<S> arizona\\t330668\\n',\n",
       " '<S> arm\\t260236\\n',\n",
       " '<S> armed\\t130687\\n',\n",
       " '<S> arms\\t190976\\n',\n",
       " '<S> army\\t165109\\n',\n",
       " '<S> around\\t1763815\\n',\n",
       " '<S> arr\\t145838\\n',\n",
       " '<S> arrange\\t176624\\n',\n",
       " '<S> arranged\\t188424\\n',\n",
       " '<S> arrangement\\t333710\\n',\n",
       " '<S> arrangements\\t807532\\n',\n",
       " '<S> array\\t506715\\n',\n",
       " '<S> arrival\\t231088\\n',\n",
       " '<S> arrive\\t125019\\n',\n",
       " '<S> arrived\\t152689\\n',\n",
       " '<S> arrow\\t1011022\\n',\n",
       " '<S> art\\t2044759\\n',\n",
       " '<S> arthritis\\t133223\\n',\n",
       " '<S> article\\t1041344\\n',\n",
       " '<S> articles\\t1158290\\n',\n",
       " '<S> artificial\\t227052\\n',\n",
       " '<S> artist\\t1367115\\n',\n",
       " '<S> artistas\\t152168\\n',\n",
       " '<S> artistic\\t122464\\n',\n",
       " '<S> artists\\t670298\\n',\n",
       " '<S> artnet\\t122583\\n',\n",
       " '<S> arts\\t801185\\n',\n",
       " '<S> artwork\\t112487\\n',\n",
       " '<S> ary\\t277258\\n',\n",
       " '<S> as\\t26175031\\n',\n",
       " '<S> asbestos\\t276261\\n',\n",
       " '<S> ash\\t137634\\n',\n",
       " '<S> ashley\\t107070\\n',\n",
       " '<S> asia\\t208759\\n',\n",
       " '<S> asian\\t1066470\\n',\n",
       " '<S> aside\\t127825\\n',\n",
       " '<S> ask\\t1084078\\n',\n",
       " '<S> asked\\t1412866\\n',\n",
       " '<S> asking\\t223295\\n',\n",
       " '<S> asks\\t229583\\n',\n",
       " '<S> asp\\t515009\\n',\n",
       " '<S> aspect\\t263217\\n',\n",
       " '<S> aspects\\t659340\\n',\n",
       " '<S> aspx\\t122219\\n',\n",
       " '<S> ass\\t574085\\n',\n",
       " '<S> assault\\t109645\\n',\n",
       " '<S> assembly\\t341227\\n',\n",
       " '<S> assert\\t285244\\n',\n",
       " '<S> assess\\t441192\\n',\n",
       " '<S> assessed\\t374295\\n',\n",
       " '<S> assessing\\t259622\\n',\n",
       " '<S> assessment\\t2031779\\n',\n",
       " '<S> assessments\\t464549\\n',\n",
       " '<S> asset\\t352944\\n',\n",
       " '<S> assets\\t753932\\n',\n",
       " '<S> assign\\t236132\\n',\n",
       " '<S> assigned\\t753794\\n',\n",
       " '<S> assignment\\t408874\\n',\n",
       " '<S> assignments\\t294561\\n',\n",
       " '<S> assist\\t635073\\n',\n",
       " '<S> assistance\\t1373765\\n',\n",
       " '<S> assistant\\t365829\\n',\n",
       " '<S> assisted\\t195266\\n',\n",
       " '<S> assisting\\t185431\\n',\n",
       " '<S> assists\\t126113\\n',\n",
       " '<S> associate\\t254430\\n',\n",
       " '<S> associated\\t2079881\\n',\n",
       " '<S> associates\\t105737\\n',\n",
       " '<S> association\\t628120\\n',\n",
       " '<S> associations\\t352714\\n',\n",
       " '<S> assume\\t514280\\n',\n",
       " '<S> assumed\\t435390\\n',\n",
       " '<S> assumes\\t160265\\n',\n",
       " '<S> assuming\\t270781\\n',\n",
       " '<S> assumption\\t351330\\n',\n",
       " '<S> assumptions\\t391610\\n',\n",
       " '<S> assurance\\t269871\\n',\n",
       " '<S> assure\\t140661\\n',\n",
       " '<S> asterixx\\t102604\\n',\n",
       " '<S> asthma\\t158156\\n',\n",
       " '<S> astronomy\\t175084\\n',\n",
       " '<S> at\\t37899769\\n',\n",
       " '<S> ate\\t620734\\n',\n",
       " '<S> ated\\t485796\\n',\n",
       " '<S> ately\\t102517\\n',\n",
       " '<S> ates\\t127019\\n',\n",
       " '<S> athletic\\t117473\\n',\n",
       " '<S> ati\\t112673\\n',\n",
       " '<S> ating\\t156546\\n',\n",
       " '<S> ation\\t638398\\n',\n",
       " '<S> ations\\t197386\\n',\n",
       " '<S> ativan\\t120854\\n',\n",
       " '<S> ative\\t138657\\n',\n",
       " '<S> atlanta\\t232317\\n',\n",
       " '<S> atlas\\t334307\\n',\n",
       " '<S> atm\\t167667\\n',\n",
       " '<S> atmosphere\\t343077\\n',\n",
       " '<S> atmospheric\\t183108\\n',\n",
       " '<S> atom\\t224082\\n',\n",
       " '<S> atomic\\t223263\\n',\n",
       " '<S> atoms\\t147662\\n',\n",
       " '<S> att\\t145427\\n',\n",
       " '<S> attach\\t169703\\n',\n",
       " '<S> attached\\t709455\\n',\n",
       " '<S> attachment\\t198764\\n',\n",
       " '<S> attachments\\t148732\\n',\n",
       " '<S> attack\\t292832\\n',\n",
       " '<S> attacks\\t193999\\n',\n",
       " '<S> attainment\\t169949\\n',\n",
       " '<S> attempt\\t400026\\n',\n",
       " '<S> attempted\\t169046\\n',\n",
       " '<S> attempting\\t144908\\n',\n",
       " '<S> attempts\\t242064\\n',\n",
       " '<S> attend\\t433262\\n',\n",
       " '<S> attendance\\t369861\\n',\n",
       " '<S> attended\\t343462\\n',\n",
       " '<S> attending\\t271095\\n',\n",
       " '<S> attention\\t834965\\n',\n",
       " '<S> attitude\\t178473\\n',\n",
       " '<S> attitudes\\t221538\\n',\n",
       " '<S> attorney\\t419631\\n',\n",
       " '<S> attorneys\\t140991\\n',\n",
       " '<S> attr\\t281367\\n',\n",
       " '<S> attract\\t150070\\n',\n",
       " '<S> attractions\\t185449\\n',\n",
       " '<S> attractive\\t244713\\n',\n",
       " '<S> attributable\\t163831\\n',\n",
       " '<S> attribute\\t410540\\n',\n",
       " '<S> attributed\\t168638\\n',\n",
       " '<S> attributes\\t390423\\n',\n",
       " '<S> au\\t499854\\n',\n",
       " '<S> auction\\t952758\\n',\n",
       " '<S> auctions\\t120567\\n',\n",
       " '<S> audience\\t304659\\n',\n",
       " '<S> audio\\t1232048\\n',\n",
       " '<S> audit\\t411353\\n',\n",
       " '<S> aug\\t119990\\n',\n",
       " '<S> august\\t148444\\n',\n",
       " '<S> austin\\t186083\\n',\n",
       " '<S> australia\\t216942\\n',\n",
       " '<S> australian\\t226860\\n',\n",
       " '<S> authentic\\t114235\\n',\n",
       " '<S> authentication\\t299714\\n',\n",
       " '<S> author\\t2459442\\n',\n",
       " '<S> authorised\\t149734\\n',\n",
       " '<S> authorities\\t729777\\n',\n",
       " '<S> authority\\t1160845\\n',\n",
       " '<S> authorization\\t326350\\n',\n",
       " '<S> authorize\\t214534\\n',\n",
       " '<S> authorized\\t685594\\n',\n",
       " '<S> authorizing\\t185601\\n',\n",
       " '<S> authors\\t612109\\n',\n",
       " '<S> auto\\t1338906\\n',\n",
       " '<S> automated\\t247200\\n',\n",
       " '<S> automatic\\t571447\\n',\n",
       " '<S> automatically\\t713871\\n',\n",
       " '<S> automation\\t124522\\n',\n",
       " '<S> automobile\\t211135\\n',\n",
       " '<S> automotive\\t489745\\n',\n",
       " '<S> autonomous\\t106164\\n',\n",
       " '<S> autumn\\t143415\\n',\n",
       " '<S> aux\\t109960\\n',\n",
       " '<S> auxiliary\\t107589\\n',\n",
       " '<S> av\\t233625\\n',\n",
       " '<S> availability\\t910086\\n',\n",
       " '<S> available\\t6001162\\n',\n",
       " '<S> ave\\t149792\\n',\n",
       " '<S> average\\t2601577\\n',\n",
       " '<S> averaged\\t140930\\n',\n",
       " '<S> avg\\t275977\\n',\n",
       " '<S> avi\\t461708\\n',\n",
       " '<S> aviation\\t147770\\n',\n",
       " '<S> avoid\\t578882\\n',\n",
       " '<S> avoided\\t126392\\n',\n",
       " '<S> avoiding\\t136573\\n',\n",
       " '<S> aw\\t166719\\n',\n",
       " '<S> award\\t597104\\n',\n",
       " '<S> awarded\\t367931\\n',\n",
       " '<S> awards\\t1028123\\n',\n",
       " '<S> aware\\t372631\\n',\n",
       " '<S> awareness\\t599944\\n',\n",
       " '<S> away\\t815392\\n',\n",
       " '<S> awesome\\t341141\\n',\n",
       " '<S> awful\\t380330\\n',\n",
       " '<S> aww\\t118378\\n',\n",
       " '<S> ax\\t176955\\n',\n",
       " '<S> axis\\t277957\\n',\n",
       " '<S> ay\\t218668\\n',\n",
       " '<S> aye\\t5161288\\n',\n",
       " '<S> az\\t279086\\n',\n",
       " '<S> b\\t26825078\\n',\n",
       " '<S> ba\\t258284\\n',\n",
       " '<S> babe\\t130079\\n',\n",
       " '<S> babies\\t138852\\n',\n",
       " '<S> baby\\t1249017\\n',\n",
       " '<S> bachelor\\t127249\\n',\n",
       " '<S> back\\t15354775\\n',\n",
       " '<S> backgammon\\t118485\\n',\n",
       " '<S> background\\t1954745\\n',\n",
       " '<S> backgrounds\\t170218\\n',\n",
       " '<S> backpacking\\t457892\\n',\n",
       " '<S> backup\\t327004\\n',\n",
       " '<S> backward\\t100250\\n',\n",
       " '<S> bacteria\\t215789\\n',\n",
       " '<S> bacterial\\t111471\\n',\n",
       " '<S> bad\\t1671648\\n',\n",
       " '<S> bag\\t223074\\n',\n",
       " '<S> bags\\t146299\\n',\n",
       " '<S> baking\\t138509\\n',\n",
       " '<S> balance\\t826936\\n',\n",
       " '<S> balanced\\t206939\\n',\n",
       " '<S> balances\\t119493\\n',\n",
       " '<S> balancing\\t110976\\n',\n",
       " '<S> ball\\t301148\\n',\n",
       " '<S> baltimore\\t120100\\n',\n",
       " '<S> ban\\t112636\\n',\n",
       " '<S> band\\t581094\\n',\n",
       " '<S> bands\\t240729\\n',\n",
       " '<S> bandwidth\\t329139\\n',\n",
       " '<S> bang\\t138700\\n',\n",
       " '<S> bank\\t805331\\n',\n",
       " '<S> banking\\t708050\\n',\n",
       " '<S> bankruptcy\\t278874\\n',\n",
       " '<S> banks\\t421607\\n',\n",
       " '<S> banner\\t530340\\n',\n",
       " '<S> bar\\t632272\\n',\n",
       " '<S> barb\\t329301\\n',\n",
       " '<S> barbeque\\t104881\\n',\n",
       " '<S> barcelona\\t137428\\n',\n",
       " '<S> bare\\t125897\\n',\n",
       " '<S> bargain\\t184003\\n',\n",
       " '<S> bargaining\\t186162\\n',\n",
       " '<S> barrier\\t170720\\n',\n",
       " '<S> barriers\\t270996\\n',\n",
       " '<S> bars\\t200390\\n',\n",
       " '<S> base\\t1192890\\n',\n",
       " '<S> baseball\\t353164\\n',\n",
       " '<S> based\\t4338446\\n',\n",
       " '<S> baseline\\t285677\\n',\n",
       " '<S> bases\\t154543\\n',\n",
       " '<S> bash\\t170859\\n',\n",
       " '<S> basic\\t1168577\\n',\n",
       " '<S> basically\\t211070\\n',\n",
       " '<S> basin\\t132812\\n',\n",
       " '<S> basis\\t1455349\\n',\n",
       " '<S> basket\\t430681\\n',\n",
       " '<S> basketball\\t295025\\n',\n",
       " '<S> bass\\t242527\\n',\n",
       " '<S> bat\\t164467\\n',\n",
       " '<S> batch\\t150307\\n',\n",
       " '<S> bath\\t257193\\n',\n",
       " '<S> bathroom\\t284553\\n',\n",
       " '<S> batteries\\t149729\\n',\n",
       " '<S> battery\\t370832\\n',\n",
       " '<S> battle\\t148586\\n',\n",
       " '<S> bay\\t169310\\n',\n",
       " '<S> bb\\t294483\\n',\n",
       " '<S> bbc\\t146550\\n',\n",
       " '<S> bbw\\t218842\\n',\n",
       " '<S> bc\\t429771\\n',\n",
       " '<S> bd\\t204974\\n',\n",
       " '<S> bdsm\\t220113\\n',\n",
       " '<S> be\\t36179375\\n',\n",
       " '<S> beach\\t542785\\n',\n",
       " '<S> beam\\t366232\\n',\n",
       " '<S> bear\\t266631\\n',\n",
       " '<S> bearing\\t211431\\n',\n",
       " '<S> beat\\t295095\\n',\n",
       " '<S> beautiful\\t671877\\n',\n",
       " '<S> beauty\\t463304\\n',\n",
       " '<S> became\\t553702\\n',\n",
       " '<S> because\\t5347640\\n',\n",
       " '<S> become\\t1870479\\n',\n",
       " '<S> becomes\\t752797\\n',\n",
       " '<S> becoming\\t409032\\n',\n",
       " '<S> bed\\t520401\\n',\n",
       " '<S> bedroom\\t252239\\n',\n",
       " '<S> bedrooms\\t112747\\n',\n",
       " '<S> beds\\t205646\\n',\n",
       " '<S> beef\\t227447\\n',\n",
       " '<S> been\\t7046152\\n',\n",
       " '<S> beer\\t344531\\n',\n",
       " '<S> before\\t3688283\\n',\n",
       " '<S> began\\t448723\\n',\n",
       " '<S> begin\\t1108248\\n',\n",
       " '<S> beginning\\t998706\\n',\n",
       " '<S> begins\\t283211\\n',\n",
       " '<S> begun\\t119962\\n',\n",
       " '<S> behalf\\t334813\\n',\n",
       " '<S> behavior\\t830600\\n',\n",
       " '<S> behavioral\\t184420\\n',\n",
       " '<S> behaviors\\t173561\\n',\n",
       " '<S> behaviour\\t520281\\n',\n",
       " '<S> behind\\t503039\\n',\n",
       " '<S> being\\t3701295\\n',\n",
       " '<S> belief\\t172763\\n',\n",
       " '<S> beliefs\\t148314\\n',\n",
       " '<S> believe\\t724152\\n',\n",
       " '<S> believed\\t226026\\n',\n",
       " '<S> believes\\t260675\\n',\n",
       " '<S> bell\\t112723\\n',\n",
       " '<S> belong\\t137210\\n',\n",
       " '<S> belonging\\t123730\\n',\n",
       " '<S> belongs\\t203797\\n',\n",
       " ...]"
      ]
     },
     "execution_count": 6,
     "metadata": {},
     "output_type": "execute_result"
    }
   ],
   "source": [
    "f = open(\"count_2w.txt\",\"r\")\n",
    "r = f.readlines()\n",
    "r"
   ]
  },
  {
   "cell_type": "markdown",
   "id": "69eb7e3c",
   "metadata": {},
   "source": [
    "# STEP 2 : BULID goog2w_list"
   ]
  },
  {
   "cell_type": "code",
   "execution_count": 7,
   "id": "a5beb3ca",
   "metadata": {},
   "outputs": [
    {
     "data": {
      "text/plain": [
       "['0Uplink verified\\t523545\\n',\n",
       " '0km to\\t116103\\n',\n",
       " '1000s of\\t939476\\n',\n",
       " '100s of\\t539389\\n',\n",
       " '100th anniversary\\t158621\\n',\n",
       " '10am to\\t376141\\n',\n",
       " '10th and\\t183715\\n',\n",
       " '10th anniversary\\t242830\\n',\n",
       " '10th century\\t117755\\n',\n",
       " '10th grade\\t174046\\n']"
      ]
     },
     "execution_count": 7,
     "metadata": {},
     "output_type": "execute_result"
    }
   ],
   "source": [
    "mini = r[:10]\n",
    "mini"
   ]
  },
  {
   "cell_type": "code",
   "execution_count": 8,
   "id": "aa95cd66",
   "metadata": {},
   "outputs": [
    {
     "data": {
      "text/plain": [
       "'0Uplink verified\\t523545\\n'"
      ]
     },
     "execution_count": 8,
     "metadata": {},
     "output_type": "execute_result"
    }
   ],
   "source": [
    "mini[0]"
   ]
  },
  {
   "cell_type": "code",
   "execution_count": 9,
   "id": "204b524e",
   "metadata": {},
   "outputs": [
    {
     "data": {
      "text/plain": [
       "['0Uplink', 'verified', '523545']"
      ]
     },
     "execution_count": 9,
     "metadata": {},
     "output_type": "execute_result"
    }
   ],
   "source": [
    "mini[0].split()"
   ]
  },
  {
   "cell_type": "code",
   "execution_count": 10,
   "id": "7426120b",
   "metadata": {},
   "outputs": [
    {
     "data": {
      "text/plain": [
       "[(('0Uplink', 'verified'), 523545),\n",
       " (('0km', 'to'), 116103),\n",
       " (('1000s', 'of'), 939476),\n",
       " (('100s', 'of'), 539389),\n",
       " (('100th', 'anniversary'), 158621),\n",
       " (('10am', 'to'), 376141),\n",
       " (('10th', 'and'), 183715),\n",
       " (('10th', 'anniversary'), 242830),\n",
       " (('10th', 'century'), 117755),\n",
       " (('10th', 'grade'), 174046)]"
      ]
     },
     "execution_count": 10,
     "metadata": {},
     "output_type": "execute_result"
    }
   ],
   "source": [
    "mini_list = []\n",
    "for m in mini:\n",
    "    (w1,w2,count) = m.split()\n",
    "    count = int(count)\n",
    "    mini_list.append(((w1,w2),count))\n",
    "mini_list"
   ]
  },
  {
   "cell_type": "code",
   "execution_count": 11,
   "id": "4fbd8996",
   "metadata": {},
   "outputs": [
    {
     "data": {
      "text/plain": [
       "(('0Uplink', 'verified'), 523545)"
      ]
     },
     "execution_count": 11,
     "metadata": {},
     "output_type": "execute_result"
    }
   ],
   "source": [
    "mini_list[0]"
   ]
  },
  {
   "cell_type": "markdown",
   "id": "102c0382",
   "metadata": {},
   "source": [
    "# STEP 3 : BUILD goog2w_fd"
   ]
  },
  {
   "cell_type": "code",
   "execution_count": 16,
   "id": "054d5ec9",
   "metadata": {},
   "outputs": [],
   "source": [
    "import nltk\n",
    "goog2w_fd=nltk.FreqDist()"
   ]
  },
  {
   "cell_type": "code",
   "execution_count": 17,
   "id": "632bdd61",
   "metadata": {},
   "outputs": [],
   "source": [
    "for m in r:\n",
    "    w1,w2,count = m.split()\n",
    "    goog2w_fd[(w1,w2)] = count"
   ]
  },
  {
   "cell_type": "code",
   "execution_count": 18,
   "id": "1efc47c5",
   "metadata": {},
   "outputs": [
    {
     "data": {
      "text/plain": [
       "'2766332391'"
      ]
     },
     "execution_count": 18,
     "metadata": {},
     "output_type": "execute_result"
    }
   ],
   "source": [
    "goog2w_fd[('of','the')]"
   ]
  },
  {
   "cell_type": "code",
   "execution_count": 19,
   "id": "e795f6e5",
   "metadata": {},
   "outputs": [
    {
     "data": {
      "text/plain": [
       "'612472'"
      ]
     },
     "execution_count": 19,
     "metadata": {},
     "output_type": "execute_result"
    }
   ],
   "source": [
    "goog2w_fd[('so','beautiful')]"
   ]
  },
  {
   "cell_type": "markdown",
   "id": "1a3408fa",
   "metadata": {},
   "source": [
    "# STEP 4 : EXPLORE"
   ]
  },
  {
   "cell_type": "markdown",
   "id": "8492804c",
   "metadata": {},
   "source": [
    "1. what are the top-10 bigrams?"
   ]
  },
  {
   "cell_type": "code",
   "execution_count": 20,
   "id": "3cd44048",
   "metadata": {},
   "outputs": [
    {
     "data": {
      "text/plain": [
       "[(('You', 'think'), '999988'),\n",
       " (('a', 'middle'), '999987'),\n",
       " (('his', 'wife'), '9999448'),\n",
       " (('traditional', 'and'), '999927'),\n",
       " (('Ask', 'your'), '999907'),\n",
       " (('towards', 'the'), '9998989'),\n",
       " (('<S>', 'central'), '999848'),\n",
       " (('no', 'man'), '999833'),\n",
       " (('committee', 'members'), '999819'),\n",
       " (('each', 'country'), '999818')]"
      ]
     },
     "execution_count": 20,
     "metadata": {},
     "output_type": "execute_result"
    }
   ],
   "source": [
    "goog2w_fd.most_common(10)"
   ]
  },
  {
   "cell_type": "markdown",
   "id": "6672b49d",
   "metadata": {},
   "source": [
    "2. what are the top so-initial bigrams?"
   ]
  },
  {
   "cell_type": "code",
   "execution_count": 22,
   "id": "bc66842f",
   "metadata": {},
   "outputs": [
    {
     "data": {
      "text/plain": [
       "[(('so', 'a'), 1565933),\n",
       " (('so', 'afraid'), 181401),\n",
       " (('so', 'after'), 400665),\n",
       " (('so', 'again'), 197409),\n",
       " (('so', 'ago'), 226156),\n",
       " (('so', 'all'), 894606),\n",
       " (('so', 'already'), 101152),\n",
       " (('so', 'also'), 233562),\n",
       " (('so', 'am'), 206896),\n",
       " (('so', 'amazing'), 165724),\n",
       " (('so', 'an'), 229478),\n",
       " (('so', 'and'), 905653),\n",
       " (('so', 'angry'), 217654),\n",
       " (('so', 'any'), 429057),\n",
       " (('so', 'anyone'), 118496),\n",
       " (('so', 'are'), 949912),\n",
       " (('so', 'as'), 6866078),\n",
       " (('so', 'at'), 1044557),\n",
       " (('so', 'awesome'), 193277),\n",
       " (('so', 'bad'), 1997918),\n",
       " (('so', 'badly'), 535515),\n",
       " (('so', 'be'), 1391407),\n",
       " (('so', 'beautiful'), 612472),\n",
       " (('so', 'beautifully'), 106574),\n",
       " (('so', 'because'), 536885),\n",
       " (('so', 'before'), 428580),\n",
       " (('so', 'big'), 527715),\n",
       " (('so', 'boring'), 128289),\n",
       " (('so', 'both'), 122405),\n",
       " (('so', 'bright'), 207454),\n",
       " (('so', 'bring'), 107809),\n",
       " (('so', 'busy'), 420401),\n",
       " (('so', 'but'), 131919),\n",
       " (('so', 'buy'), 100369),\n",
       " (('so', 'by'), 1509732),\n",
       " (('so', 'call'), 129371),\n",
       " (('so', 'called'), 1617785),\n",
       " (('so', 'can'), 843060),\n",
       " (('so', 'cheap'), 182002),\n",
       " (('so', 'check'), 595152),\n",
       " (('so', 'choose'), 158938),\n",
       " (('so', 'clean'), 102719),\n",
       " (('so', 'clear'), 287157),\n",
       " (('so', 'clearly'), 281613),\n",
       " (('so', 'click'), 100190),\n",
       " (('so', 'close'), 1120349),\n",
       " (('so', 'closely'), 239917),\n",
       " (('so', 'cold'), 266325),\n",
       " (('so', 'come'), 270281),\n",
       " (('so', 'comfortable'), 161680),\n",
       " (('so', 'common'), 243505),\n",
       " (('so', 'completely'), 222395),\n",
       " (('so', 'complex'), 156595),\n",
       " (('so', 'complicated'), 126694),\n",
       " (('so', 'concerned'), 167789),\n",
       " (('so', 'confident'), 204721),\n",
       " (('so', 'confused'), 152978),\n",
       " (('so', 'cool'), 668925),\n",
       " (('so', 'could'), 261259),\n",
       " (('so', 'crazy'), 113183),\n",
       " (('so', 'critical'), 109587),\n",
       " (('so', 'cute'), 598528),\n",
       " (('so', 'damn'), 394350),\n",
       " (('so', 'dangerous'), 104251),\n",
       " (('so', 'dark'), 123639),\n",
       " (('so', 'dear'), 110478),\n",
       " (('so', 'deep'), 283620),\n",
       " (('so', 'deeply'), 247131),\n",
       " (('so', 'designated'), 106790),\n",
       " (('so', 'desire'), 143214),\n",
       " (('so', 'desperate'), 121467),\n",
       " (('so', 'desperately'), 151333),\n",
       " (('so', 'did'), 722613),\n",
       " (('so', 'different'), 598801),\n",
       " (('so', 'difficult'), 459314),\n",
       " (('so', 'do'), 2497723),\n",
       " (('so', 'does'), 913143),\n",
       " (('so', 'doing'), 798672),\n",
       " (('so', 'dont'), 161338),\n",
       " (('so', 'each'), 220918),\n",
       " (('so', 'eager'), 124272),\n",
       " (('so', 'early'), 274971),\n",
       " (('so', 'easily'), 630030),\n",
       " (('so', 'easy'), 1782781),\n",
       " (('so', 'effective'), 141254),\n",
       " (('so', 'either'), 103607),\n",
       " (('so', 'even'), 409733),\n",
       " (('so', 'ever'), 194023),\n",
       " (('so', 'every'), 175420),\n",
       " (('so', 'everyone'), 336790),\n",
       " (('so', 'everything'), 116237),\n",
       " (('so', 'excited'), 862539),\n",
       " (('so', 'exciting'), 191608),\n",
       " (('so', 'expect'), 113680),\n",
       " (('so', 'expensive'), 180489),\n",
       " (('so', 'familiar'), 152608),\n",
       " (('so', 'far'), 17035618),\n",
       " (('so', 'fast'), 1011064),\n",
       " (('so', 'fat'), 130084),\n",
       " (('so', 'feel'), 202376),\n",
       " (('so', 'few'), 539772),\n",
       " (('so', 'fine'), 170571),\n",
       " (('so', 'for'), 1312615),\n",
       " (('so', 'forth'), 1708058),\n",
       " (('so', 'fortunate'), 102419),\n",
       " (('so', 'frequently'), 135036),\n",
       " (('so', 'fresh'), 100883),\n",
       " (('so', 'friendly'), 121895),\n",
       " (('so', 'from'), 273718),\n",
       " (('so', 'fucking'), 240107),\n",
       " (('so', 'full'), 412015),\n",
       " (('so', 'fun'), 215633),\n",
       " (('so', 'funny'), 520379),\n",
       " (('so', 'get'), 507177),\n",
       " (('so', 'give'), 149554),\n",
       " (('so', 'glad'), 943030),\n",
       " (('so', 'go'), 282366),\n",
       " (('so', 'good'), 3152571),\n",
       " (('so', 'grateful'), 178391),\n",
       " (('so', 'great'), 1555780),\n",
       " (('so', 'had'), 164270),\n",
       " (('so', 'happens'), 179324),\n",
       " (('so', 'happy'), 1185136),\n",
       " (('so', 'hard'), 2406802),\n",
       " (('so', 'has'), 309375),\n",
       " (('so', 'have'), 468939),\n",
       " (('so', 'he'), 4632284),\n",
       " (('so', 'heavily'), 144768),\n",
       " (('so', 'heavy'), 146082),\n",
       " (('so', 'helpful'), 129716),\n",
       " (('so', 'her'), 141090),\n",
       " (('so', 'here'), 988043),\n",
       " (('so', 'high'), 794136),\n",
       " (('so', 'highly'), 153878),\n",
       " (('so', 'his'), 290141),\n",
       " (('so', 'hopefully'), 275310),\n",
       " (('so', 'hot'), 566382),\n",
       " (('so', 'how'), 627587),\n",
       " (('so', 'huge'), 114925),\n",
       " (('so', 'i'), 3493414),\n",
       " (('so', 'if'), 4255061),\n",
       " (('so', 'ill'), 146591),\n",
       " (('so', 'im'), 241768),\n",
       " (('so', 'important'), 1287474),\n",
       " (('so', 'impressed'), 308041),\n",
       " (('so', 'in'), 2964223),\n",
       " (('so', 'inclined'), 180764),\n",
       " (('so', 'incredibly'), 154642),\n",
       " (('so', 'instead'), 174677),\n",
       " (('so', 'intense'), 161050),\n",
       " (('so', 'interested'), 115834),\n",
       " (('so', 'interesting'), 193245),\n",
       " (('so', 'into'), 101807),\n",
       " (('so', 'is'), 1931353),\n",
       " (('so', 'it'), 13774183),\n",
       " (('so', 'its'), 639419),\n",
       " (('so', 'just'), 523234),\n",
       " (('so', 'keen'), 101601),\n",
       " (('so', 'keep'), 400235),\n",
       " (('so', 'kind'), 282228),\n",
       " (('so', 'large'), 457851),\n",
       " (('so', 'late'), 242638),\n",
       " (('so', 'later'), 116607),\n",
       " (('so', 'let'), 771052),\n",
       " (('so', 'lets'), 141475),\n",
       " (('so', 'light'), 134702),\n",
       " (('so', 'like'), 156642),\n",
       " (('so', 'little'), 1167971),\n",
       " (('so', 'lonely'), 123998),\n",
       " (('so', 'long'), 5882565),\n",
       " (('so', 'look'), 155921),\n",
       " (('so', 'loud'), 199696),\n",
       " (('so', 'loved'), 148447),\n",
       " (('so', 'lovely'), 103301),\n",
       " (('so', 'low'), 548312),\n",
       " (('so', 'lucky'), 320609),\n",
       " (('so', 'mad'), 152934),\n",
       " (('so', 'make'), 607831),\n",
       " (('so', 'many'), 15613030),\n",
       " (('so', 'may'), 413360),\n",
       " (('so', 'maybe'), 756607),\n",
       " (('so', 'more'), 248030),\n",
       " (('so', 'most'), 211057),\n",
       " (('so', 'much'), 26148179),\n",
       " (('so', 'must'), 164981),\n",
       " (('so', 'my'), 963403),\n",
       " (('so', 'myself'), 100289),\n",
       " (('so', 'named'), 165975),\n",
       " (('so', 'naturally'), 105893),\n",
       " (('so', 'near'), 194293),\n",
       " (('so', 'nervous'), 103956),\n",
       " (('so', 'new'), 230696),\n",
       " (('so', 'nice'), 679918),\n",
       " (('so', 'no'), 1210649),\n",
       " (('so', 'not'), 533480),\n",
       " (('so', 'nothing'), 100700),\n",
       " (('so', 'now'), 1018172),\n",
       " (('so', 'obvious'), 281947),\n",
       " (('so', 'obviously'), 211868),\n",
       " (('so', 'of'), 544952),\n",
       " (('so', 'often'), 1609790),\n",
       " (('so', 'old'), 245971),\n",
       " (('so', 'on'), 7275674),\n",
       " (('so', 'once'), 138028),\n",
       " (('so', 'one'), 422908),\n",
       " (('so', 'only'), 416154),\n",
       " (('so', 'or'), 105125),\n",
       " (('so', 'ordered'), 116682),\n",
       " (('so', 'other'), 146246),\n",
       " (('so', 'others'), 169921),\n",
       " (('so', 'our'), 482335),\n",
       " (('so', 'out'), 233732),\n",
       " (('so', 'over'), 143567),\n",
       " (('so', 'people'), 649309),\n",
       " (('so', 'perfect'), 164101),\n",
       " (('so', 'perfectly'), 112178),\n",
       " (('so', 'perhaps'), 254844),\n",
       " (('so', 'please'), 3040902),\n",
       " (('so', 'pleased'), 255309),\n",
       " (('so', 'poor'), 176834),\n",
       " (('so', 'poorly'), 117061),\n",
       " (('so', 'popular'), 596573),\n",
       " (('so', 'powerful'), 327346),\n",
       " (('so', 'predisposed'), 116332),\n",
       " (('so', 'pretty'), 257947),\n",
       " (('so', 'proud'), 513117),\n",
       " (('so', 'quick'), 220229),\n",
       " (('so', 'quickly'), 732540),\n",
       " (('so', 'quiet'), 153232),\n",
       " (('so', 'rapidly'), 156677),\n",
       " (('so', 'rare'), 140456),\n",
       " (('so', 'real'), 216293),\n",
       " (('so', 'rich'), 157219),\n",
       " (('so', 'right'), 297126),\n",
       " (('so', 'sad'), 478848),\n",
       " (('so', 'scared'), 180749),\n",
       " (('so', 'serious'), 166196),\n",
       " (('so', 'seriously'), 104309),\n",
       " (('so', 'severe'), 164337),\n",
       " (('so', 'sexy'), 136151),\n",
       " (('so', 'shall'), 168260),\n",
       " (('so', 'she'), 2134488),\n",
       " (('so', 'short'), 231619),\n",
       " (('so', 'should'), 321110),\n",
       " (('so', 'sick'), 260624),\n",
       " (('so', 'sign'), 112985),\n",
       " (('so', 'similar'), 126424),\n",
       " (('so', 'simple'), 633422),\n",
       " (('so', 'since'), 158977),\n",
       " (('so', 'slightly'), 129051),\n",
       " (('so', 'slow'), 277763),\n",
       " (('so', 'slowly'), 138827),\n",
       " (('so', 'small'), 686387),\n",
       " (('so', 'smart'), 151894),\n",
       " (('so', 'so'), 334761),\n",
       " (('so', 'soft'), 157250),\n",
       " (('so', 'some'), 3875253),\n",
       " (('so', 'soon'), 394902),\n",
       " (('so', 'sorry'), 686990),\n",
       " (('so', 'special'), 391148),\n",
       " (('so', 'stay'), 126496),\n",
       " (('so', 'stop'), 103326),\n",
       " (('so', 'strange'), 171213),\n",
       " (('so', 'strong'), 587671),\n",
       " (('so', 'strongly'), 236457),\n",
       " (('so', 'students'), 136084),\n",
       " (('so', 'stupid'), 320191),\n",
       " (('so', 'successful'), 358769),\n",
       " (('so', 'sure'), 738318),\n",
       " (('so', 'surprised'), 100193),\n",
       " (('so', 'sweet'), 438360),\n",
       " (('so', 'take'), 301458),\n",
       " (('so', 'terrible'), 101492),\n",
       " (('so', 'than'), 563186),\n",
       " (('so', 'thankful'), 121173),\n",
       " (('so', 'that'), 51168825),\n",
       " (('so', 'thats'), 141000),\n",
       " (('so', 'the'), 11681021),\n",
       " (('so', 'their'), 362008),\n",
       " (('so', 'then'), 343012),\n",
       " (('so', 'there'), 3245439),\n",
       " (('so', 'therefore'), 124770),\n",
       " (('so', 'these'), 323135),\n",
       " (('so', 'they'), 8891229),\n",
       " (('so', 'thick'), 136925),\n",
       " (('so', 'thin'), 105542),\n",
       " (('so', 'things'), 102266),\n",
       " (('so', 'this'), 2336112),\n",
       " (('so', 'thoroughly'), 134325),\n",
       " (('so', 'those'), 219842),\n",
       " (('so', 'through'), 149304),\n",
       " (('so', 'tight'), 183708),\n",
       " (('so', 'tired'), 413574),\n",
       " (('so', 'to'), 2485900),\n",
       " (('so', 'today'), 152294),\n",
       " (('so', 'too'), 524142),\n",
       " (('so', 'totally'), 106341),\n",
       " (('so', 'true'), 280371),\n",
       " (('so', 'try'), 186734),\n",
       " (('so', 'u'), 147499),\n",
       " (('so', 'under'), 149263),\n",
       " (('so', 'unique'), 151193),\n",
       " (('so', 'unless'), 129760),\n",
       " (('so', 'until'), 178481),\n",
       " (('so', 'upset'), 212704),\n",
       " (('so', 'use'), 323840),\n",
       " (('so', 'used'), 240540),\n",
       " (('so', 'useful'), 104433),\n",
       " (('so', 'users'), 157579),\n",
       " (('so', 'using'), 287594),\n",
       " (('so', 'valuable'), 139309),\n",
       " (('so', 'very'), 1204848),\n",
       " (('so', 'warm'), 106725),\n",
       " (('so', 'was'), 578969),\n",
       " (('so', 'watch'), 133366),\n",
       " (('so', 'we'), 12907106),\n",
       " (('so', 'weak'), 168351),\n",
       " (('so', 'weird'), 128706),\n",
       " (('so', 'well'), 2700162),\n",
       " (('so', 'were'), 215971),\n",
       " (('so', 'what'), 1631084),\n",
       " (('so', 'when'), 1468771),\n",
       " (('so', 'where'), 195227),\n",
       " (('so', 'while'), 190119),\n",
       " (('so', 'who'), 267618),\n",
       " (('so', 'why'), 1417987),\n",
       " (('so', 'wide'), 100301),\n",
       " (('so', 'widely'), 119881),\n",
       " (('so', 'will'), 1131823),\n",
       " (('so', 'wish'), 122468),\n",
       " (('so', 'with'), 1068384),\n",
       " (('so', 'within'), 127651),\n",
       " (('so', 'without'), 359769),\n",
       " (('so', 'wonderful'), 241167),\n",
       " (('so', 'worried'), 134139),\n",
       " (('so', 'would'), 651047),\n",
       " (('so', 'wrong'), 256595),\n",
       " (('so', 'yeah'), 188588),\n",
       " (('so', 'years'), 163957),\n",
       " (('so', 'you'), 18772494),\n",
       " (('so', 'young'), 314010),\n",
       " (('so', 'your'), 981059)]"
      ]
     },
     "execution_count": 22,
     "metadata": {},
     "output_type": "execute_result"
    }
   ],
   "source": [
    "text=[] \n",
    "for t in r:\n",
    "    (w1,w2,count)=t.split()\n",
    "    count=int(count)\n",
    "    if w1=='so':\n",
    "        text.append(((w1,w2),count))   \n",
    "text"
   ]
  },
  {
   "cell_type": "markdown",
   "id": "aff0802d",
   "metadata": {},
   "source": [
    "# STEP 5 : PICKLE THE DATA"
   ]
  },
  {
   "cell_type": "code",
   "execution_count": 23,
   "id": "09b162a8",
   "metadata": {},
   "outputs": [],
   "source": [
    "import pickle \n",
    "with open('goog2w_list.pkl','wb') as handle:\n",
    "    pickle.dump(goog2w_fd,handle,protocol=pickle.HIGHEST_PROTOCOL)"
   ]
  },
  {
   "cell_type": "markdown",
   "id": "b783c498",
   "metadata": {},
   "source": [
    "# EX - 2 Frequency distribution from Jane Austen Novels"
   ]
  },
  {
   "cell_type": "markdown",
   "id": "7d4e3ea3",
   "metadata": {},
   "source": [
    "A. open the text file,reads in the string content"
   ]
  },
  {
   "cell_type": "code",
   "execution_count": 27,
   "id": "9df00777",
   "metadata": {},
   "outputs": [
    {
     "data": {
      "text/plain": [
       "\"[Emma by Jane Austen 1816]\\n\\nVOLUME I\\n\\nCHAPTER I\\n\\n\\nEmma Woodhouse, handsome, clever, and rich, with a comfortable home\\nand happy disposition, seemed to unite some of the best blessings\\nof existence; and had lived nearly twenty-one years in the world\\nwith very little to distress or vex her.\\n\\nShe was the youngest of the two daughters of a most affectionate,\\nindulgent father; and had, in consequence of her sister's marriage,\\nbeen mistress of his house from a very early period.  Her mother\\nhad died too long ago for her to have more than an indistinct\\nremembrance of her caresses; and her place had b\""
      ]
     },
     "execution_count": 27,
     "metadata": {},
     "output_type": "execute_result"
    }
   ],
   "source": [
    "with open('austen-emma (1).txt','r')as su:\n",
    "    a=su.read(600) \n",
    "a"
   ]
  },
  {
   "cell_type": "code",
   "execution_count": 65,
   "id": "41088617",
   "metadata": {},
   "outputs": [
    {
     "data": {
      "text/plain": [
       "'[Persuasion by Jane Austen 1818]\\n\\n\\nChapter 1\\n\\n\\nSir Walter Elliot, of Kellynch Hall, in Somersetshire, was a man who,\\nfor his own amusement, never took up any book but the Baronetage;\\nthere he found occupation for an idle hour, and consolation in a\\ndistressed one; there his faculties were roused into admiration and\\nrespect, by contemplating the limited remnant of the earliest patents;\\nthere any unwelcome sensations, arising from domestic affairs\\nchanged naturally into pity and contempt as he turned over\\nthe almost endless creations of the last century; and there,\\nif every other leaf were powerless, he could read his own history\\nwith an interest which never failed.  This was the page at which\\nthe favourite volume always opened:\\n\\n           \"ELLIOT OF KELLYNCH HALL.\\n\\n\"Walter Elliot, born March 1, 1760, married, July 15, 1784, Elizabeth,\\ndaughter of James Stevenson, Esq. of South Park, in th'"
      ]
     },
     "execution_count": 65,
     "metadata": {},
     "output_type": "execute_result"
    }
   ],
   "source": [
    "with open('austen-persuasion.txt','r')as fp:\n",
    "    ap=fp.read(900)\n",
    "ap    "
   ]
  },
  {
   "cell_type": "code",
   "execution_count": 67,
   "id": "368626a5",
   "metadata": {},
   "outputs": [
    {
     "data": {
      "text/plain": [
       "\"[Sense and Sensibility by Jane Austen 1811]\\n\\nCHAPTER 1\\n\\n\\nThe family of Dashwood had long been settled in Sussex.\\nTheir estate was large, and their residence was at Norland Park,\\nin the centre of their property, where, for many generations,\\nthey had lived in so respectable a manner as to engage\\nthe general good opinion of their surrounding acquaintance.\\nThe late owner of this estate was a single man, who lived\\nto a very advanced age, and who for many years of his life,\\nhad a constant companion and housekeeper in his sister.\\nBut her death, which happened ten years before his own,\\nproduced a great alteration in his home; for to supply\\nher loss, he invited and received into his house the family\\nof his nephew Mr. Henry Dashwood, the legal inheritor\\nof the Norland estate, and the person to whom he intended\\nto bequeath it.  In the society of his nephew and niece,\\nand their children, the old Gentleman's days were\\ncomfortably spent.  His attachment to them all increased.\\nThe constant attention \""
      ]
     },
     "execution_count": 67,
     "metadata": {},
     "output_type": "execute_result"
    }
   ],
   "source": [
    "with open('austen-sense.txt','r')as fe:\n",
    "    ase=fe.read(1000)\n",
    "ase    "
   ]
  },
  {
   "cell_type": "markdown",
   "id": "e4ea58b5",
   "metadata": {},
   "source": [
    "B. builds a list of individual sentences "
   ]
  },
  {
   "cell_type": "code",
   "execution_count": 28,
   "id": "b80f65bb",
   "metadata": {},
   "outputs": [],
   "source": [
    "from nltk.tokenize import sent_tokenize as s"
   ]
  },
  {
   "cell_type": "code",
   "execution_count": 31,
   "id": "5fd6f920",
   "metadata": {
    "scrolled": true
   },
   "outputs": [
    {
     "data": {
      "text/plain": [
       "['[Emma by Jane Austen 1816]\\n\\nVOLUME I\\n\\nCHAPTER I\\n\\n\\nEmma Woodhouse, handsome, clever, and rich, with a comfortable home\\nand happy disposition, seemed to unite some of the best blessings\\nof existence; and had lived nearly twenty-one years in the world\\nwith very little to distress or vex her.',\n",
       " \"She was the youngest of the two daughters of a most affectionate,\\nindulgent father; and had, in consequence of her sister's marriage,\\nbeen mistress of his house from a very early period.\",\n",
       " 'Her mother\\nhad died too long ago for her to have more than an indistinct\\nremembrance of her caresses; and her place had b']"
      ]
     },
     "execution_count": 31,
     "metadata": {},
     "output_type": "execute_result"
    }
   ],
   "source": [
    "import nltk\n",
    "s(a) "
   ]
  },
  {
   "cell_type": "code",
   "execution_count": 68,
   "id": "38bacabb",
   "metadata": {},
   "outputs": [
    {
     "data": {
      "text/plain": [
       "['[Persuasion by Jane Austen 1818]\\n\\n\\nChapter 1\\n\\n\\nSir Walter Elliot, of Kellynch Hall, in Somersetshire, was a man who,\\nfor his own amusement, never took up any book but the Baronetage;\\nthere he found occupation for an idle hour, and consolation in a\\ndistressed one; there his faculties were roused into admiration and\\nrespect, by contemplating the limited remnant of the earliest patents;\\nthere any unwelcome sensations, arising from domestic affairs\\nchanged naturally into pity and contempt as he turned over\\nthe almost endless creations of the last century; and there,\\nif every other leaf were powerless, he could read his own history\\nwith an interest which never failed.',\n",
       " 'This was the page at which\\nthe favourite volume always opened:\\n\\n           \"ELLIOT OF KELLYNCH HALL.',\n",
       " '\"Walter Elliot, born March 1, 1760, married, July 15, 1784, Elizabeth,\\ndaughter of James Stevenson, Esq.',\n",
       " 'of South Park, in th']"
      ]
     },
     "execution_count": 68,
     "metadata": {},
     "output_type": "execute_result"
    }
   ],
   "source": [
    "s(ap)"
   ]
  },
  {
   "cell_type": "code",
   "execution_count": 69,
   "id": "a8d49beb",
   "metadata": {},
   "outputs": [
    {
     "data": {
      "text/plain": [
       "['[Sense and Sensibility by Jane Austen 1811]\\n\\nCHAPTER 1\\n\\n\\nThe family of Dashwood had long been settled in Sussex.',\n",
       " 'Their estate was large, and their residence was at Norland Park,\\nin the centre of their property, where, for many generations,\\nthey had lived in so respectable a manner as to engage\\nthe general good opinion of their surrounding acquaintance.',\n",
       " 'The late owner of this estate was a single man, who lived\\nto a very advanced age, and who for many years of his life,\\nhad a constant companion and housekeeper in his sister.',\n",
       " 'But her death, which happened ten years before his own,\\nproduced a great alteration in his home; for to supply\\nher loss, he invited and received into his house the family\\nof his nephew Mr. Henry Dashwood, the legal inheritor\\nof the Norland estate, and the person to whom he intended\\nto bequeath it.',\n",
       " \"In the society of his nephew and niece,\\nand their children, the old Gentleman's days were\\ncomfortably spent.\",\n",
       " 'His attachment to them all increased.',\n",
       " 'The constant attention']"
      ]
     },
     "execution_count": 69,
     "metadata": {},
     "output_type": "execute_result"
    }
   ],
   "source": [
    "s(ase)"
   ]
  },
  {
   "cell_type": "markdown",
   "id": "99ccc241",
   "metadata": {},
   "source": [
    "c. prints out how many sentences there are"
   ]
  },
  {
   "cell_type": "code",
   "execution_count": 32,
   "id": "d310ad29",
   "metadata": {},
   "outputs": [
    {
     "data": {
      "text/plain": [
       "3"
      ]
     },
     "execution_count": 32,
     "metadata": {},
     "output_type": "execute_result"
    }
   ],
   "source": [
    "len(s(a))"
   ]
  },
  {
   "cell_type": "code",
   "execution_count": 70,
   "id": "81c9647d",
   "metadata": {},
   "outputs": [
    {
     "data": {
      "text/plain": [
       "4"
      ]
     },
     "execution_count": 70,
     "metadata": {},
     "output_type": "execute_result"
    }
   ],
   "source": [
    "len(s(ap))"
   ]
  },
  {
   "cell_type": "code",
   "execution_count": 71,
   "id": "526d1e98",
   "metadata": {},
   "outputs": [
    {
     "data": {
      "text/plain": [
       "7"
      ]
     },
     "execution_count": 71,
     "metadata": {},
     "output_type": "execute_result"
    }
   ],
   "source": [
    "len(s(ase))"
   ]
  },
  {
   "cell_type": "markdown",
   "id": "ffb6f8fd",
   "metadata": {},
   "source": [
    "E. prints the token and the type counts of this corpus"
   ]
  },
  {
   "cell_type": "code",
   "execution_count": 33,
   "id": "318e401a",
   "metadata": {},
   "outputs": [],
   "source": [
    "from nltk.tokenize import word_tokenize"
   ]
  },
  {
   "cell_type": "code",
   "execution_count": 74,
   "id": "e423d784",
   "metadata": {},
   "outputs": [
    {
     "name": "stdout",
     "output_type": "stream",
     "text": [
      "['[', 'Emma', 'by', 'Jane', 'Austen', '1816', ']', 'VOLUME', 'I', 'CHAPTER', 'I', 'Emma', 'Woodhouse', ',', 'handsome', ',', 'clever', ',', 'and', 'rich', ',', 'with', 'a', 'comfortable', 'home', 'and', 'happy', 'disposition', ',', 'seemed', 'to', 'unite', 'some', 'of', 'the', 'best', 'blessings', 'of', 'existence', ';', 'and', 'had', 'lived', 'nearly', 'twenty-one', 'years', 'in', 'the', 'world', 'with', 'very', 'little', 'to', 'distress', 'or', 'vex', 'her', '.', 'She', 'was', 'the', 'youngest', 'of', 'the', 'two', 'daughters', 'of', 'a', 'most', 'affectionate', ',', 'indulgent', 'father', ';', 'and', 'had', ',', 'in', 'consequence', 'of', 'her', 'sister', \"'s\", 'marriage', ',', 'been', 'mistress', 'of', 'his', 'house', 'from', 'a', 'very', 'early', 'period', '.', 'Her', 'mother', 'had', 'died', 'too', 'long', 'ago', 'for', 'her', 'to', 'have', 'more', 'than', 'an', 'indistinct', 'remembrance', 'of', 'her', 'caresses', ';', 'and', 'her', 'place', 'had', 'b']\n"
     ]
    }
   ],
   "source": [
    "t1= word_tokenize(a)\n",
    "print(t1)"
   ]
  },
  {
   "cell_type": "code",
   "execution_count": 75,
   "id": "f5ce0ff2",
   "metadata": {},
   "outputs": [
    {
     "name": "stdout",
     "output_type": "stream",
     "text": [
      "['[', 'Persuasion', 'by', 'Jane', 'Austen', '1818', ']', 'Chapter', '1', 'Sir', 'Walter', 'Elliot', ',', 'of', 'Kellynch', 'Hall', ',', 'in', 'Somersetshire', ',', 'was', 'a', 'man', 'who', ',', 'for', 'his', 'own', 'amusement', ',', 'never', 'took', 'up', 'any', 'book', 'but', 'the', 'Baronetage', ';', 'there', 'he', 'found', 'occupation', 'for', 'an', 'idle', 'hour', ',', 'and', 'consolation', 'in', 'a', 'distressed', 'one', ';', 'there', 'his', 'faculties', 'were', 'roused', 'into', 'admiration', 'and', 'respect', ',', 'by', 'contemplating', 'the', 'limited', 'remnant', 'of', 'the', 'earliest', 'patents', ';', 'there', 'any', 'unwelcome', 'sensations', ',', 'arising', 'from', 'domestic', 'affairs', 'changed', 'naturally', 'into', 'pity', 'and', 'contempt', 'as', 'he', 'turned', 'over', 'the', 'almost', 'endless', 'creations', 'of', 'the', 'last', 'century', ';', 'and', 'there', ',', 'if', 'every', 'other', 'leaf', 'were', 'powerless', ',', 'he', 'could', 'read', 'his', 'own', 'history', 'with', 'an', 'interest', 'which', 'never', 'failed', '.', 'This', 'was', 'the', 'page', 'at', 'which', 'the', 'favourite', 'volume', 'always', 'opened', ':', '``', 'ELLIOT', 'OF', 'KELLYNCH', 'HALL', '.', '``', 'Walter', 'Elliot', ',', 'born', 'March', '1', ',', '1760', ',', 'married', ',', 'July', '15', ',', '1784', ',', 'Elizabeth', ',', 'daughter', 'of', 'James', 'Stevenson', ',', 'Esq', '.', 'of', 'South', 'Park', ',', 'in', 'th']\n"
     ]
    }
   ],
   "source": [
    "t2 = word_tokenize(ap)\n",
    "print(t2)"
   ]
  },
  {
   "cell_type": "code",
   "execution_count": 76,
   "id": "82fb574b",
   "metadata": {},
   "outputs": [
    {
     "name": "stdout",
     "output_type": "stream",
     "text": [
      "['[', 'Sense', 'and', 'Sensibility', 'by', 'Jane', 'Austen', '1811', ']', 'CHAPTER', '1', 'The', 'family', 'of', 'Dashwood', 'had', 'long', 'been', 'settled', 'in', 'Sussex', '.', 'Their', 'estate', 'was', 'large', ',', 'and', 'their', 'residence', 'was', 'at', 'Norland', 'Park', ',', 'in', 'the', 'centre', 'of', 'their', 'property', ',', 'where', ',', 'for', 'many', 'generations', ',', 'they', 'had', 'lived', 'in', 'so', 'respectable', 'a', 'manner', 'as', 'to', 'engage', 'the', 'general', 'good', 'opinion', 'of', 'their', 'surrounding', 'acquaintance', '.', 'The', 'late', 'owner', 'of', 'this', 'estate', 'was', 'a', 'single', 'man', ',', 'who', 'lived', 'to', 'a', 'very', 'advanced', 'age', ',', 'and', 'who', 'for', 'many', 'years', 'of', 'his', 'life', ',', 'had', 'a', 'constant', 'companion', 'and', 'housekeeper', 'in', 'his', 'sister', '.', 'But', 'her', 'death', ',', 'which', 'happened', 'ten', 'years', 'before', 'his', 'own', ',', 'produced', 'a', 'great', 'alteration', 'in', 'his', 'home', ';', 'for', 'to', 'supply', 'her', 'loss', ',', 'he', 'invited', 'and', 'received', 'into', 'his', 'house', 'the', 'family', 'of', 'his', 'nephew', 'Mr.', 'Henry', 'Dashwood', ',', 'the', 'legal', 'inheritor', 'of', 'the', 'Norland', 'estate', ',', 'and', 'the', 'person', 'to', 'whom', 'he', 'intended', 'to', 'bequeath', 'it', '.', 'In', 'the', 'society', 'of', 'his', 'nephew', 'and', 'niece', ',', 'and', 'their', 'children', ',', 'the', 'old', 'Gentleman', \"'s\", 'days', 'were', 'comfortably', 'spent', '.', 'His', 'attachment', 'to', 'them', 'all', 'increased', '.', 'The', 'constant', 'attention']\n"
     ]
    }
   ],
   "source": [
    "t3 = word_tokenize(ase)\n",
    "print(t3)"
   ]
  },
  {
   "cell_type": "markdown",
   "id": "d6b8ced0",
   "metadata": {},
   "source": [
    "F.builds a frequency count dictionary of words"
   ]
  },
  {
   "cell_type": "code",
   "execution_count": 35,
   "id": "aba69b58",
   "metadata": {},
   "outputs": [],
   "source": [
    "from nltk import *"
   ]
  },
  {
   "cell_type": "code",
   "execution_count": 80,
   "id": "89e202dc",
   "metadata": {},
   "outputs": [
    {
     "data": {
      "text/plain": [
       "FreqDist({',': 8, 'of': 7, 'and': 5, 'her': 5, 'the': 4, 'had': 4, 'a': 3, 'to': 3, ';': 3, 'Emma': 2, ...})"
      ]
     },
     "execution_count": 80,
     "metadata": {},
     "output_type": "execute_result"
    }
   ],
   "source": [
    "d1 = FreqDist(t1)\n",
    "d1"
   ]
  },
  {
   "cell_type": "code",
   "execution_count": 81,
   "id": "7a32e94d",
   "metadata": {},
   "outputs": [
    {
     "data": {
      "text/plain": [
       "FreqDist({',': 19, 'the': 7, 'of': 5, ';': 4, 'there': 4, 'and': 4, 'in': 3, 'his': 3, 'he': 3, '.': 3, ...})"
      ]
     },
     "execution_count": 81,
     "metadata": {},
     "output_type": "execute_result"
    }
   ],
   "source": [
    "d2 = FreqDist(t2)\n",
    "d2"
   ]
  },
  {
   "cell_type": "code",
   "execution_count": 82,
   "id": "d66ffd94",
   "metadata": {},
   "outputs": [
    {
     "data": {
      "text/plain": [
       "FreqDist({',': 15, 'and': 8, 'of': 8, 'the': 8, 'his': 7, '.': 6, 'to': 6, 'in': 5, 'a': 5, 'their': 4, ...})"
      ]
     },
     "execution_count": 82,
     "metadata": {},
     "output_type": "execute_result"
    }
   ],
   "source": [
    "d3 = FreqDist(t3)\n",
    "d3"
   ]
  },
  {
   "cell_type": "markdown",
   "id": "6fcb03b3",
   "metadata": {},
   "source": [
    "G. prints the top 50 word types and their counts"
   ]
  },
  {
   "cell_type": "code",
   "execution_count": 83,
   "id": "fe9bd397",
   "metadata": {
    "scrolled": true
   },
   "outputs": [
    {
     "name": "stdout",
     "output_type": "stream",
     "text": [
      "[(',', 8), ('of', 7), ('and', 5), ('her', 5), ('the', 4), ('had', 4), ('a', 3), ('to', 3), (';', 3), ('Emma', 2), ('I', 2), ('with', 2), ('in', 2), ('very', 2), ('.', 2), ('[', 1), ('by', 1), ('Jane', 1), ('Austen', 1), ('1816', 1), (']', 1), ('VOLUME', 1), ('CHAPTER', 1), ('Woodhouse', 1), ('handsome', 1), ('clever', 1), ('rich', 1), ('comfortable', 1), ('home', 1), ('happy', 1), ('disposition', 1), ('seemed', 1), ('unite', 1), ('some', 1), ('best', 1), ('blessings', 1), ('existence', 1), ('lived', 1), ('nearly', 1), ('twenty-one', 1), ('years', 1), ('world', 1), ('little', 1), ('distress', 1), ('or', 1), ('vex', 1), ('She', 1), ('was', 1), ('youngest', 1), ('two', 1)]\n"
     ]
    }
   ],
   "source": [
    "print(d1.most_common(50))"
   ]
  },
  {
   "cell_type": "code",
   "execution_count": 84,
   "id": "80d71d2a",
   "metadata": {},
   "outputs": [
    {
     "name": "stdout",
     "output_type": "stream",
     "text": [
      "[(',', 19), ('the', 7), ('of', 5), (';', 4), ('there', 4), ('and', 4), ('in', 3), ('his', 3), ('he', 3), ('.', 3), ('by', 2), ('1', 2), ('Walter', 2), ('Elliot', 2), ('was', 2), ('a', 2), ('for', 2), ('own', 2), ('never', 2), ('any', 2), ('an', 2), ('were', 2), ('into', 2), ('which', 2), ('``', 2), ('[', 1), ('Persuasion', 1), ('Jane', 1), ('Austen', 1), ('1818', 1), (']', 1), ('Chapter', 1), ('Sir', 1), ('Kellynch', 1), ('Hall', 1), ('Somersetshire', 1), ('man', 1), ('who', 1), ('amusement', 1), ('took', 1), ('up', 1), ('book', 1), ('but', 1), ('Baronetage', 1), ('found', 1), ('occupation', 1), ('idle', 1), ('hour', 1), ('consolation', 1), ('distressed', 1)]\n"
     ]
    }
   ],
   "source": [
    "print(d2.most_common(50))"
   ]
  },
  {
   "cell_type": "code",
   "execution_count": 85,
   "id": "9cf9734d",
   "metadata": {},
   "outputs": [
    {
     "name": "stdout",
     "output_type": "stream",
     "text": [
      "[(',', 15), ('and', 8), ('of', 8), ('the', 8), ('his', 7), ('.', 6), ('to', 6), ('in', 5), ('a', 5), ('their', 4), ('The', 3), ('had', 3), ('estate', 3), ('was', 3), ('for', 3), ('family', 2), ('Dashwood', 2), ('Norland', 2), ('many', 2), ('lived', 2), ('who', 2), ('years', 2), ('constant', 2), ('her', 2), ('he', 2), ('nephew', 2), ('[', 1), ('Sense', 1), ('Sensibility', 1), ('by', 1), ('Jane', 1), ('Austen', 1), ('1811', 1), (']', 1), ('CHAPTER', 1), ('1', 1), ('long', 1), ('been', 1), ('settled', 1), ('Sussex', 1), ('Their', 1), ('large', 1), ('residence', 1), ('at', 1), ('Park', 1), ('centre', 1), ('property', 1), ('where', 1), ('generations', 1), ('they', 1)]\n"
     ]
    }
   ],
   "source": [
    "print(d3.most_common(50))"
   ]
  },
  {
   "cell_type": "markdown",
   "id": "1f75de8b",
   "metadata": {},
   "source": [
    "#  EX - 3 BIGRAM FREQUENCIES OF AUSTEN EMMA NOVELS"
   ]
  },
  {
   "cell_type": "markdown",
   "id": "a9ba57dc",
   "metadata": {},
   "source": [
    "#  A. IMPORTS NECESSARY MODULES"
   ]
  },
  {
   "cell_type": "markdown",
   "id": "744792f6",
   "metadata": {},
   "source": [
    "# B. OPEN THE TEXT FILES AND READ IN THE CONTENT AS STRING"
   ]
  },
  {
   "cell_type": "code",
   "execution_count": 39,
   "id": "08c0bc37",
   "metadata": {},
   "outputs": [
    {
     "name": "stdout",
     "output_type": "stream",
     "text": [
      "[Emma by Jane Austen 1816]\n",
      "\n",
      "VOLUME I\n",
      "\n",
      "CHAPTER I\n",
      "\n",
      "\n",
      "Emma Woodhouse, handsome, clever, and rich, with a comfortable home\n",
      "and happy disposition, seemed to unite some of the best blessings\n",
      "of existence; and had lived nearly twenty-one years in the world\n",
      "with very little to distress or vex her.\n",
      "\n",
      "She was the youngest of the two daughters of a most affectionate,\n",
      "indulgent father; and had, in consequence of her sister's marriage,\n",
      "been mistress of his house from a very early period.  Her mother\n",
      "had died t\n"
     ]
    }
   ],
   "source": [
    "with open(\"austen-emma (1).txt\") as f:\n",
    "    novel=f.read(500)\n",
    "    print(novel)"
   ]
  },
  {
   "cell_type": "code",
   "execution_count": 40,
   "id": "87758323",
   "metadata": {},
   "outputs": [
    {
     "name": "stdout",
     "output_type": "stream",
     "text": [
      "['[Emma', 'by', 'Jane', 'Austen', '1816]', 'VOLUME', 'I', 'CHAPTER', 'I', 'Emma', 'Woodhouse,', 'handsome,', 'clever,', 'and', 'rich,', 'with', 'a', 'comfortable', 'home', 'and', 'happy', 'disposition,', 'seemed', 'to', 'unite', 'some', 'of', 'the', 'best', 'blessings', 'of', 'existence;', 'and', 'had', 'lived', 'nearly', 'twenty-one', 'years', 'in', 'the', 'world', 'with', 'very', 'little', 'to', 'distress', 'or', 'vex', 'her.', 'She', 'was', 'the', 'youngest', 'of', 'the', 'two', 'daughters', 'of', 'a', 'most', 'affectionate,', 'indulgent', 'father;', 'and', 'had,', 'in', 'consequence', 'of', 'her', \"sister's\", 'marriage,', 'been', 'mistress', 'of', 'his', 'house', 'from', 'a', 'very', 'early', 'period.', 'Her', 'mother', 'had', 'died', 't']\n"
     ]
    }
   ],
   "source": [
    "tokenizer=nltk.tokenize.WhitespaceTokenizer()\n",
    "tok=tokenizer.tokenize(novel)\n",
    "print(tok)"
   ]
  },
  {
   "cell_type": "markdown",
   "id": "e8a14249",
   "metadata": {},
   "source": [
    "#  C. BUILDS THE OBJECTS"
   ]
  },
  {
   "cell_type": "markdown",
   "id": "69c36b09",
   "metadata": {},
   "source": [
    "1. a_toks: words tokens, all in lowercase"
   ]
  },
  {
   "cell_type": "code",
   "execution_count": 41,
   "id": "6848c912",
   "metadata": {},
   "outputs": [
    {
     "name": "stdout",
     "output_type": "stream",
     "text": [
      "['[emma', 'by', 'jane', 'austen', '1816]', 'volume', 'i', 'chapter', 'i', 'emma', 'woodhouse,', 'handsome,', 'clever,', 'and', 'rich,', 'with', 'a', 'comfortable', 'home', 'and', 'happy', 'disposition,', 'seemed', 'to', 'unite', 'some', 'of', 'the', 'best', 'blessings', 'of', 'existence;', 'and', 'had', 'lived', 'nearly', 'twenty-one', 'years', 'in', 'the', 'world', 'with', 'very', 'little', 'to', 'distress', 'or', 'vex', 'her.', 'she', 'was', 'the', 'youngest', 'of', 'the', 'two', 'daughters', 'of', 'a', 'most', 'affectionate,', 'indulgent', 'father;', 'and', 'had,', 'in', 'consequence', 'of', 'her', \"sister's\", 'marriage,', 'been', 'mistress', 'of', 'his', 'house', 'from', 'a', 'very', 'early', 'period.', 'her', 'mother', 'had', 'died', 't']\n"
     ]
    }
   ],
   "source": [
    "tokenizer=nltk.tokenize.WhitespaceTokenizer()\n",
    "a_tok=tokenizer.tokenize(novel.lower())\n",
    "print(a_tok)"
   ]
  },
  {
   "cell_type": "code",
   "execution_count": 42,
   "id": "7c6dd5e0",
   "metadata": {},
   "outputs": [
    {
     "data": {
      "text/plain": [
       "FreqDist({('of', 'the'): 2, ('[Emma', 'by'): 1, ('by', 'Jane'): 1, ('Jane', 'Austen'): 1, ('Austen', '1816]'): 1, ('1816]', 'VOLUME'): 1, ('VOLUME', 'I'): 1, ('I', 'CHAPTER'): 1, ('CHAPTER', 'I'): 1, ('I', 'Emma'): 1, ...})"
      ]
     },
     "execution_count": 42,
     "metadata": {},
     "output_type": "execute_result"
    }
   ],
   "source": [
    "b2=list(nltk.bigrams(tok))\n",
    "b2fd=nltk.FreqDist(b2)\n",
    "b2fd"
   ]
  },
  {
   "cell_type": "code",
   "execution_count": 43,
   "id": "5d743f4c",
   "metadata": {},
   "outputs": [],
   "source": [
    "import re\n",
    "from collections import Counter"
   ]
  },
  {
   "cell_type": "code",
   "execution_count": 45,
   "id": "a299046d",
   "metadata": {},
   "outputs": [
    {
     "name": "stdout",
     "output_type": "stream",
     "text": [
      "Counter({('so much',): 95, ('so very',): 76, ('so well',): 30, ('so many',): 27, ('so long',): 27, ('so little',): 20, ('so far',): 17, ('so I',): 14, ('so kind',): 13, ('so good',): 12, ('so often',): 10, ('so soon',): 9, ('so great',): 8, ('so to',): 7, ('so fond',): 7, ('so she',): 7, ('so it',): 6, ('so anxious',): 6, ('so as',): 6, ('so you',): 6, ('so truly',): 6, ('so completely',): 5, ('so obliging',): 5, ('so extremely',): 5, ('so entirely',): 4, ('so happy',): 4, ('so interesting',): 4, ('so fast',): 4, ('so near',): 4, ('so pleased',): 4, ('so few',): 4, ('so that',): 4, ('so strong',): 4, ('so liberal',): 4, ('so miserable',): 4, ('so happily',): 3, ('so proper',): 3, ('so pleasantly',): 3, ('so superior',): 3, ('so warmly',): 3, ('so bad',): 3, ('so odd',): 3, ('so ill',): 3, ('so delighted',): 3, ('so particularly',): 3, ('so easily',): 3, ('so on',): 3, ('so attentive',): 3, ('so fortunate',): 3, ('so glad',): 3, ('so shocked',): 3, ('so at',): 3, ('so obliged',): 2, ('so perfectly',): 2, ('so dear',): 2, ('so busy',): 2, ('so did',): 2, ('so forth',): 2, ('so totally',): 2, ('so remarkably',): 2, ('so plainly',): 2, ('so charming',): 2, ('so surprized',): 2, ('so early',): 2, ('so too',): 2, ('so easy',): 2, ('so decidedly',): 2, ('so absolutely',): 2, ('so particular',): 2, ('so deceived',): 2, ('so palpably',): 2, ('so clever',): 2, ('so short',): 2, ('so cold',): 2, ('so high',): 2, ('so happened',): 2, ('so full',): 2, ('so thoroughly',): 2, ('so equal',): 2, ('so off',): 2, ('so naturally',): 2, ('so afraid',): 2, ('so deep',): 2, ('so kindly',): 2, ('so pale',): 2, ('so noble',): 2, ('so lovely',): 2, ('so mad',): 2, ('so nearly',): 2, ('so sorry',): 2, ('so cheerful',): 2, ('so unfeeling',): 2, ('so ready',): 2, ('so unperceived',): 1, ('so mild',): 1, ('so constantly',): 1, ('so comfortably',): 1, ('so avowed',): 1, ('so deservedly',): 1, ('so convenient',): 1, ('so just',): 1, ('so apparent',): 1, ('so sorrowful',): 1, ('so spent',): 1, ('so artlessly',): 1, ('so plain',): 1, ('so firmly',): 1, ('so genteel',): 1, ('so _then_',): 1, ('so brilliant',): 1, ('so seldom',): 1, ('so nervous',): 1, ('so indeed',): 1, ('so pack',): 1, ('so doubtful',): 1, ('so with',): 1, ('so contemptible',): 1, ('so slightingly',): 1, ('so by',): 1, ('so loudly',): 1, ('so materially',): 1, ('so hard',): 1, ('so delightful',): 1, ('so pointed',): 1, ('so equalled',): 1, ('so evidently',): 1, ('so immediately',): 1, ('so sought',): 1, ('so excellent',): 1, ('so prettily',): 1, ('so extreme',): 1, ('so wonder',): 1, ('so always',): 1, ('so silly',): 1, ('so satisfied',): 1, ('so smiling',): 1, ('so prosing',): 1, ('so undistinguishing',): 1, ('so apt',): 1, ('so dreadful',): 1, ('so respected',): 1, ('so tenderly',): 1, ('so grieved',): 1, ('so shocking',): 1, ('so conceited',): 1, ('so before',): 1, ('so prevalent',): 1, ('so heavy',): 1, ('so swiftly',): 1, ('so spoken',): 1, ('so or',): 1, ('so overcharged',): 1, ('so pleasant',): 1, ('so fenced',): 1, ('so hospitable',): 1, ('so interested',): 1, ('so sanguine',): 1, ('so sure',): 1, ('so careless',): 1, ('so rapidly',): 1, ('so frequent',): 1, ('so sensible',): 1, ('so misled',): 1, ('so blind',): 1, ('so complaisant',): 1, ('so misinterpreted',): 1, ('so active',): 1, ('so pointedly',): 1, ('so striking',): 1, ('so sudden',): 1, ('so industriously',): 1, ('so partial',): 1, ('so natural',): 1, ('so inevitable',): 1, ('so lately',): 1, ('so beautifully',): 1, ('so distinct',): 1, ('so considerate',): 1, ('so light',): 1, ('so intimate',): 1, ('so magnified',): 1, ('so cautious',): 1, ('so confined',): 1, ('so wish',): 1, ('so he',): 1, ('so glorious',): 1, ('so quick',): 1, ('so sweetly',): 1, ('so inseparably',): 1, ('so deserving',): 1, ('so disappointed',): 1, ('so ended',): 1, ('so sluggish',): 1, ('so amiable',): 1, ('so quiet',): 1, ('so idolized',): 1, ('so cried',): 1, ('so acceptable',): 1, ('so properly',): 1, ('so reasonable',): 1, ('so delightfully',): 1, ('so rich',): 1, ('so warm',): 1, ('so large',): 1, ('so handsomely',): 1, ('so abundant',): 1, ('so outree',): 1, ('so thoughtful',): 1, ('so must',): 1, ('so effectually',): 1, ('so beautiful',): 1, ('so Patty',): 1, ('so honoured',): 1, ('so close',): 1, ('so imprudent',): 1, ('so limited',): 1, ('so from',): 1, ('so amusing',): 1, ('so indifferent',): 1, ('so indignant',): 1, ('so said',): 1, ('so right',): 1, ('so wretched',): 1, ('so now',): 1, ('so occupied',): 1, ('so unhappy',): 1, ('so highly',): 1, ('so generally',): 1, ('so exactly',): 1, ('so double',): 1, ('so secluded',): 1, ('so regular',): 1, ('so determined',): 1, ('so motherly',): 1, ('so the',): 1, ('so glibly',): 1, ('so calculated',): 1, ('so thrown',): 1, ('so exclusively',): 1, ('so disgustingly',): 1, ('so needlessly',): 1, ('so does',): 1, ('so resolutely',): 1, ('so would',): 1, ('so infinitely',): 1, ('so fluently',): 1, ('so they',): 1, ('so impatient',): 1, ('so briskly',): 1, ('so vigorously',): 1, ('so young',): 1, ('so hardened',): 1, ('so gratified',): 1, ('so received',): 1, ('so then',): 1, ('so and',): 1, ('so gratefully',): 1, ('so found',): 1, ('so placed',): 1, ('so lain',): 1, ('so his',): 1, ('so arranged',): 1, ('so moving',): 1, ('so walking',): 1, ('so when',): 1, ('so favourable',): 1, ('so late',): 1, ('so silent',): 1, ('so dull',): 1, ('so irksome',): 1, ('so agitated',): 1, ('so brutal',): 1, ('so cruel',): 1, ('so depressed',): 1, ('so no',): 1, ('so justly',): 1, ('so astonished',): 1, ('so will',): 1, ('so simple',): 1, ('so dignified',): 1, ('so suddenly',): 1, ('so a',): 1, ('so herself',): 1, ('so peremptorily',): 1, ('so uneasy',): 1, ('so wonderful',): 1, ('so _very_',): 1, ('so expressly',): 1, ('so angry',): 1, ('so anxiously',): 1, ('so strange',): 1, ('so stoutly',): 1, ('so mistake',): 1, ('so mistaken',): 1, ('so dreadfully',): 1, ('so voluntarily',): 1, ('so satisfactory',): 1, ('so disinterested',): 1, ('so foolishly',): 1, ('so ingeniously',): 1, ('so entreated',): 1, ('so like',): 1, ('so cordially',): 1, ('so essential',): 1, ('so designedly',): 1, ('so hasty',): 1, ('so richly',): 1, ('so grateful',): 1, ('so tenaciously',): 1, ('so feeling',): 1, ('so engaging',): 1, ('so engaged',): 1, ('so hot',): 1, ('so useful',): 1, ('so attached',): 1, ('so peculiarly',): 1, ('so singularly',): 1, ('so taken',): 1, ('so recently',): 1, ('so fresh',): 1, ('so hateful',): 1, ('so heartily',): 1, ('so steady',): 1, ('so complete',): 1, ('so in',): 1, ('so suffered',): 1})\n"
     ]
    }
   ],
   "source": [
    "words=re.findall(r'so+ \\w+',open('austen-emma (1).txt').read())\n",
    "ab=Counter(zip(words))\n",
    "print(ab)"
   ]
  },
  {
   "cell_type": "markdown",
   "id": "94540dbe",
   "metadata": {},
   "source": [
    "2. a_tokfd:word frequency distribution"
   ]
  },
  {
   "cell_type": "code",
   "execution_count": 46,
   "id": "067883a1",
   "metadata": {},
   "outputs": [
    {
     "data": {
      "text/plain": [
       "FreqDist({'of': 6, 'and': 4, 'the': 4, 'a': 3, 'i': 2, 'with': 2, 'to': 2, 'had': 2, 'in': 2, 'very': 2, ...})"
      ]
     },
     "execution_count": 46,
     "metadata": {},
     "output_type": "execute_result"
    }
   ],
   "source": [
    "a_tokfd=FreqDist(a_tok)\n",
    "a_tokfd"
   ]
  },
  {
   "cell_type": "markdown",
   "id": "03aef933",
   "metadata": {},
   "source": [
    "3. a_bigrams:word bigrams,cast as a list"
   ]
  },
  {
   "cell_type": "code",
   "execution_count": 47,
   "id": "87269af9",
   "metadata": {},
   "outputs": [
    {
     "data": {
      "text/plain": [
       "[('[emma', 'by'),\n",
       " ('by', 'jane'),\n",
       " ('jane', 'austen'),\n",
       " ('austen', '1816]'),\n",
       " ('1816]', 'volume'),\n",
       " ('volume', 'i'),\n",
       " ('i', 'chapter'),\n",
       " ('chapter', 'i'),\n",
       " ('i', 'emma'),\n",
       " ('emma', 'woodhouse,'),\n",
       " ('woodhouse,', 'handsome,'),\n",
       " ('handsome,', 'clever,'),\n",
       " ('clever,', 'and'),\n",
       " ('and', 'rich,'),\n",
       " ('rich,', 'with'),\n",
       " ('with', 'a'),\n",
       " ('a', 'comfortable'),\n",
       " ('comfortable', 'home'),\n",
       " ('home', 'and'),\n",
       " ('and', 'happy'),\n",
       " ('happy', 'disposition,'),\n",
       " ('disposition,', 'seemed'),\n",
       " ('seemed', 'to'),\n",
       " ('to', 'unite'),\n",
       " ('unite', 'some'),\n",
       " ('some', 'of'),\n",
       " ('of', 'the'),\n",
       " ('the', 'best'),\n",
       " ('best', 'blessings'),\n",
       " ('blessings', 'of'),\n",
       " ('of', 'existence;'),\n",
       " ('existence;', 'and'),\n",
       " ('and', 'had'),\n",
       " ('had', 'lived'),\n",
       " ('lived', 'nearly'),\n",
       " ('nearly', 'twenty-one'),\n",
       " ('twenty-one', 'years'),\n",
       " ('years', 'in'),\n",
       " ('in', 'the'),\n",
       " ('the', 'world'),\n",
       " ('world', 'with'),\n",
       " ('with', 'very'),\n",
       " ('very', 'little'),\n",
       " ('little', 'to'),\n",
       " ('to', 'distress'),\n",
       " ('distress', 'or'),\n",
       " ('or', 'vex'),\n",
       " ('vex', 'her.'),\n",
       " ('her.', 'she'),\n",
       " ('she', 'was'),\n",
       " ('was', 'the'),\n",
       " ('the', 'youngest'),\n",
       " ('youngest', 'of'),\n",
       " ('of', 'the'),\n",
       " ('the', 'two'),\n",
       " ('two', 'daughters'),\n",
       " ('daughters', 'of'),\n",
       " ('of', 'a'),\n",
       " ('a', 'most'),\n",
       " ('most', 'affectionate,'),\n",
       " ('affectionate,', 'indulgent'),\n",
       " ('indulgent', 'father;'),\n",
       " ('father;', 'and'),\n",
       " ('and', 'had,'),\n",
       " ('had,', 'in'),\n",
       " ('in', 'consequence'),\n",
       " ('consequence', 'of'),\n",
       " ('of', 'her'),\n",
       " ('her', \"sister's\"),\n",
       " (\"sister's\", 'marriage,'),\n",
       " ('marriage,', 'been'),\n",
       " ('been', 'mistress'),\n",
       " ('mistress', 'of'),\n",
       " ('of', 'his'),\n",
       " ('his', 'house'),\n",
       " ('house', 'from'),\n",
       " ('from', 'a'),\n",
       " ('a', 'very'),\n",
       " ('very', 'early'),\n",
       " ('early', 'period.'),\n",
       " ('period.', 'her'),\n",
       " ('her', 'mother'),\n",
       " ('mother', 'had'),\n",
       " ('had', 'died'),\n",
       " ('died', 't')]"
      ]
     },
     "execution_count": 47,
     "metadata": {},
     "output_type": "execute_result"
    }
   ],
   "source": [
    "a_bigrams=list(nltk.bigrams(a_tok))\n",
    "a_bigrams"
   ]
  },
  {
   "cell_type": "markdown",
   "id": "3715c13a",
   "metadata": {},
   "source": [
    "4. a_bigramfd:bigram frequency distribution"
   ]
  },
  {
   "cell_type": "code",
   "execution_count": 48,
   "id": "cb1612ed",
   "metadata": {},
   "outputs": [
    {
     "data": {
      "text/plain": [
       "FreqDist({('of', 'the'): 2, ('[emma', 'by'): 1, ('by', 'jane'): 1, ('jane', 'austen'): 1, ('austen', '1816]'): 1, ('1816]', 'volume'): 1, ('volume', 'i'): 1, ('i', 'chapter'): 1, ('chapter', 'i'): 1, ('i', 'emma'): 1, ...})"
      ]
     },
     "execution_count": 48,
     "metadata": {},
     "output_type": "execute_result"
    }
   ],
   "source": [
    "a_bigramfd=nltk.FreqDist(a_bigrams)\n",
    "a_bigramfd"
   ]
  },
  {
   "cell_type": "markdown",
   "id": "31622c28",
   "metadata": {},
   "source": [
    "5. a_bigramcfd: bigram (w1,w2) CFDs"
   ]
  },
  {
   "cell_type": "code",
   "execution_count": 49,
   "id": "f26f9bc4",
   "metadata": {},
   "outputs": [],
   "source": [
    "from nltk.probability import ConditionalFreqDist\n",
    "from nltk.tokenize import word_tokenize"
   ]
  },
  {
   "cell_type": "markdown",
   "id": "0084495c",
   "metadata": {},
   "source": [
    "# D. PICKLES THE BIGRAM CFDs"
   ]
  },
  {
   "cell_type": "code",
   "execution_count": 50,
   "id": "3c3b8b2d",
   "metadata": {},
   "outputs": [],
   "source": [
    "a_bigramcfd=ConditionalFreqDist()"
   ]
  },
  {
   "cell_type": "markdown",
   "id": "f4b69e44",
   "metadata": {},
   "source": [
    "# E. EXPLORING THE OBJECTS:"
   ]
  },
  {
   "cell_type": "markdown",
   "id": "db1404c7",
   "metadata": {},
   "source": [
    "1. How many word tokens and types are there? what is its size?"
   ]
  },
  {
   "cell_type": "code",
   "execution_count": 51,
   "id": "9bea5c8d",
   "metadata": {},
   "outputs": [
    {
     "data": {
      "text/plain": [
       "{'of': 6,\n",
       " 'and': 4,\n",
       " 'the': 4,\n",
       " 'a': 3,\n",
       " 'i': 2,\n",
       " 'with': 2,\n",
       " 'to': 2,\n",
       " 'had': 2,\n",
       " 'in': 2,\n",
       " 'very': 2,\n",
       " 'her': 2,\n",
       " '[emma': 1,\n",
       " 'by': 1,\n",
       " 'jane': 1,\n",
       " 'austen': 1,\n",
       " '1816]': 1,\n",
       " 'volume': 1,\n",
       " 'chapter': 1,\n",
       " 'emma': 1,\n",
       " 'woodhouse,': 1}"
      ]
     },
     "execution_count": 51,
     "metadata": {},
     "output_type": "execute_result"
    }
   ],
   "source": [
    "ws=a_tokfd.most_common(20)\n",
    "n=dict(ws)\n",
    "n"
   ]
  },
  {
   "cell_type": "markdown",
   "id": "a36ee43b",
   "metadata": {},
   "source": [
    "2. What are the top 20 most frequent word bigrams and their counts?draw Matplotlib's plot()"
   ]
  },
  {
   "cell_type": "code",
   "execution_count": 52,
   "id": "381d8e2f",
   "metadata": {},
   "outputs": [
    {
     "data": {
      "text/html": [
       "<div>\n",
       "<style scoped>\n",
       "    .dataframe tbody tr th:only-of-type {\n",
       "        vertical-align: middle;\n",
       "    }\n",
       "\n",
       "    .dataframe tbody tr th {\n",
       "        vertical-align: top;\n",
       "    }\n",
       "\n",
       "    .dataframe thead th {\n",
       "        text-align: right;\n",
       "    }\n",
       "</style>\n",
       "<table border=\"1\" class=\"dataframe\">\n",
       "  <thead>\n",
       "    <tr style=\"text-align: right;\">\n",
       "      <th></th>\n",
       "      <th>single</th>\n",
       "      <th>count</th>\n",
       "    </tr>\n",
       "  </thead>\n",
       "  <tbody>\n",
       "    <tr>\n",
       "      <th>0</th>\n",
       "      <td>of</td>\n",
       "      <td>6</td>\n",
       "    </tr>\n",
       "    <tr>\n",
       "      <th>1</th>\n",
       "      <td>and</td>\n",
       "      <td>4</td>\n",
       "    </tr>\n",
       "    <tr>\n",
       "      <th>2</th>\n",
       "      <td>the</td>\n",
       "      <td>4</td>\n",
       "    </tr>\n",
       "    <tr>\n",
       "      <th>3</th>\n",
       "      <td>a</td>\n",
       "      <td>3</td>\n",
       "    </tr>\n",
       "    <tr>\n",
       "      <th>4</th>\n",
       "      <td>i</td>\n",
       "      <td>2</td>\n",
       "    </tr>\n",
       "    <tr>\n",
       "      <th>5</th>\n",
       "      <td>with</td>\n",
       "      <td>2</td>\n",
       "    </tr>\n",
       "    <tr>\n",
       "      <th>6</th>\n",
       "      <td>to</td>\n",
       "      <td>2</td>\n",
       "    </tr>\n",
       "    <tr>\n",
       "      <th>7</th>\n",
       "      <td>had</td>\n",
       "      <td>2</td>\n",
       "    </tr>\n",
       "    <tr>\n",
       "      <th>8</th>\n",
       "      <td>in</td>\n",
       "      <td>2</td>\n",
       "    </tr>\n",
       "    <tr>\n",
       "      <th>9</th>\n",
       "      <td>very</td>\n",
       "      <td>2</td>\n",
       "    </tr>\n",
       "    <tr>\n",
       "      <th>10</th>\n",
       "      <td>her</td>\n",
       "      <td>2</td>\n",
       "    </tr>\n",
       "    <tr>\n",
       "      <th>11</th>\n",
       "      <td>[emma</td>\n",
       "      <td>1</td>\n",
       "    </tr>\n",
       "    <tr>\n",
       "      <th>12</th>\n",
       "      <td>by</td>\n",
       "      <td>1</td>\n",
       "    </tr>\n",
       "    <tr>\n",
       "      <th>13</th>\n",
       "      <td>jane</td>\n",
       "      <td>1</td>\n",
       "    </tr>\n",
       "    <tr>\n",
       "      <th>14</th>\n",
       "      <td>austen</td>\n",
       "      <td>1</td>\n",
       "    </tr>\n",
       "    <tr>\n",
       "      <th>15</th>\n",
       "      <td>1816]</td>\n",
       "      <td>1</td>\n",
       "    </tr>\n",
       "    <tr>\n",
       "      <th>16</th>\n",
       "      <td>volume</td>\n",
       "      <td>1</td>\n",
       "    </tr>\n",
       "    <tr>\n",
       "      <th>17</th>\n",
       "      <td>chapter</td>\n",
       "      <td>1</td>\n",
       "    </tr>\n",
       "    <tr>\n",
       "      <th>18</th>\n",
       "      <td>emma</td>\n",
       "      <td>1</td>\n",
       "    </tr>\n",
       "    <tr>\n",
       "      <th>19</th>\n",
       "      <td>woodhouse,</td>\n",
       "      <td>1</td>\n",
       "    </tr>\n",
       "  </tbody>\n",
       "</table>\n",
       "</div>"
      ],
      "text/plain": [
       "        single  count\n",
       "0           of      6\n",
       "1          and      4\n",
       "2          the      4\n",
       "3            a      3\n",
       "4            i      2\n",
       "5         with      2\n",
       "6           to      2\n",
       "7          had      2\n",
       "8           in      2\n",
       "9         very      2\n",
       "10         her      2\n",
       "11       [emma      1\n",
       "12          by      1\n",
       "13        jane      1\n",
       "14      austen      1\n",
       "15       1816]      1\n",
       "16      volume      1\n",
       "17     chapter      1\n",
       "18        emma      1\n",
       "19  woodhouse,      1"
      ]
     },
     "execution_count": 52,
     "metadata": {},
     "output_type": "execute_result"
    }
   ],
   "source": [
    "import pandas as pd\n",
    "df=pd.DataFrame(list(n.items()))\n",
    "df.columns=['single','count']\n",
    "df"
   ]
  },
  {
   "cell_type": "code",
   "execution_count": 53,
   "id": "a8c43fbd",
   "metadata": {},
   "outputs": [
    {
     "data": {
      "image/png": "[encoded data removed]",
      "text/plain": [
       "<Figure size 432x288 with 1 Axes>"
      ]
     },
     "metadata": {
      "needs_background": "light"
     },
     "output_type": "display_data"
    }
   ],
   "source": [
    "import matplotlib.pyplot as plt\n",
    "df.plot(kind='line',x='single',y='count',color='blue')\n",
    "plt.show()"
   ]
  },
  {
   "cell_type": "markdown",
   "id": "22f8ccff",
   "metadata": {},
   "source": [
    "4. What are the top 20 most frequent word bigrams and their counts, omitting bigrams that contains stopwords?"
   ]
  },
  {
   "cell_type": "code",
   "execution_count": 54,
   "id": "7c630595",
   "metadata": {},
   "outputs": [
    {
     "data": {
      "text/plain": [
       "{('of', 'the'): 2,\n",
       " ('[emma', 'by'): 1,\n",
       " ('by', 'jane'): 1,\n",
       " ('jane', 'austen'): 1,\n",
       " ('austen', '1816]'): 1,\n",
       " ('1816]', 'volume'): 1,\n",
       " ('volume', 'i'): 1,\n",
       " ('i', 'chapter'): 1,\n",
       " ('chapter', 'i'): 1,\n",
       " ('i', 'emma'): 1,\n",
       " ('emma', 'woodhouse,'): 1,\n",
       " ('woodhouse,', 'handsome,'): 1,\n",
       " ('handsome,', 'clever,'): 1,\n",
       " ('clever,', 'and'): 1,\n",
       " ('and', 'rich,'): 1,\n",
       " ('rich,', 'with'): 1,\n",
       " ('with', 'a'): 1,\n",
       " ('a', 'comfortable'): 1,\n",
       " ('comfortable', 'home'): 1,\n",
       " ('home', 'and'): 1}"
      ]
     },
     "execution_count": 54,
     "metadata": {},
     "output_type": "execute_result"
    }
   ],
   "source": [
    "v=a_bigramfd.most_common(20)\n",
    "m=dict(v)\n",
    "m"
   ]
  },
  {
   "cell_type": "markdown",
   "id": "4dd74dd6",
   "metadata": {},
   "source": [
    "5. What are the top 20 most frequent word bigrams and their counts, omitting bigrams that contains stopwords? draw Matplotlib's plot()"
   ]
  },
  {
   "cell_type": "code",
   "execution_count": 55,
   "id": "757f6ece",
   "metadata": {},
   "outputs": [
    {
     "data": {
      "text/html": [
       "<div>\n",
       "<style scoped>\n",
       "    .dataframe tbody tr th:only-of-type {\n",
       "        vertical-align: middle;\n",
       "    }\n",
       "\n",
       "    .dataframe tbody tr th {\n",
       "        vertical-align: top;\n",
       "    }\n",
       "\n",
       "    .dataframe thead th {\n",
       "        text-align: right;\n",
       "    }\n",
       "</style>\n",
       "<table border=\"1\" class=\"dataframe\">\n",
       "  <thead>\n",
       "    <tr style=\"text-align: right;\">\n",
       "      <th></th>\n",
       "      <th>bigram</th>\n",
       "      <th>count</th>\n",
       "    </tr>\n",
       "  </thead>\n",
       "  <tbody>\n",
       "    <tr>\n",
       "      <th>0</th>\n",
       "      <td>(of, the)</td>\n",
       "      <td>2</td>\n",
       "    </tr>\n",
       "    <tr>\n",
       "      <th>1</th>\n",
       "      <td>([emma, by)</td>\n",
       "      <td>1</td>\n",
       "    </tr>\n",
       "    <tr>\n",
       "      <th>2</th>\n",
       "      <td>(by, jane)</td>\n",
       "      <td>1</td>\n",
       "    </tr>\n",
       "    <tr>\n",
       "      <th>3</th>\n",
       "      <td>(jane, austen)</td>\n",
       "      <td>1</td>\n",
       "    </tr>\n",
       "    <tr>\n",
       "      <th>4</th>\n",
       "      <td>(austen, 1816])</td>\n",
       "      <td>1</td>\n",
       "    </tr>\n",
       "    <tr>\n",
       "      <th>5</th>\n",
       "      <td>(1816], volume)</td>\n",
       "      <td>1</td>\n",
       "    </tr>\n",
       "    <tr>\n",
       "      <th>6</th>\n",
       "      <td>(volume, i)</td>\n",
       "      <td>1</td>\n",
       "    </tr>\n",
       "    <tr>\n",
       "      <th>7</th>\n",
       "      <td>(i, chapter)</td>\n",
       "      <td>1</td>\n",
       "    </tr>\n",
       "    <tr>\n",
       "      <th>8</th>\n",
       "      <td>(chapter, i)</td>\n",
       "      <td>1</td>\n",
       "    </tr>\n",
       "    <tr>\n",
       "      <th>9</th>\n",
       "      <td>(i, emma)</td>\n",
       "      <td>1</td>\n",
       "    </tr>\n",
       "    <tr>\n",
       "      <th>10</th>\n",
       "      <td>(emma, woodhouse,)</td>\n",
       "      <td>1</td>\n",
       "    </tr>\n",
       "    <tr>\n",
       "      <th>11</th>\n",
       "      <td>(woodhouse,, handsome,)</td>\n",
       "      <td>1</td>\n",
       "    </tr>\n",
       "    <tr>\n",
       "      <th>12</th>\n",
       "      <td>(handsome,, clever,)</td>\n",
       "      <td>1</td>\n",
       "    </tr>\n",
       "    <tr>\n",
       "      <th>13</th>\n",
       "      <td>(clever,, and)</td>\n",
       "      <td>1</td>\n",
       "    </tr>\n",
       "    <tr>\n",
       "      <th>14</th>\n",
       "      <td>(and, rich,)</td>\n",
       "      <td>1</td>\n",
       "    </tr>\n",
       "    <tr>\n",
       "      <th>15</th>\n",
       "      <td>(rich,, with)</td>\n",
       "      <td>1</td>\n",
       "    </tr>\n",
       "    <tr>\n",
       "      <th>16</th>\n",
       "      <td>(with, a)</td>\n",
       "      <td>1</td>\n",
       "    </tr>\n",
       "    <tr>\n",
       "      <th>17</th>\n",
       "      <td>(a, comfortable)</td>\n",
       "      <td>1</td>\n",
       "    </tr>\n",
       "    <tr>\n",
       "      <th>18</th>\n",
       "      <td>(comfortable, home)</td>\n",
       "      <td>1</td>\n",
       "    </tr>\n",
       "    <tr>\n",
       "      <th>19</th>\n",
       "      <td>(home, and)</td>\n",
       "      <td>1</td>\n",
       "    </tr>\n",
       "  </tbody>\n",
       "</table>\n",
       "</div>"
      ],
      "text/plain": [
       "                     bigram  count\n",
       "0                 (of, the)      2\n",
       "1               ([emma, by)      1\n",
       "2                (by, jane)      1\n",
       "3            (jane, austen)      1\n",
       "4           (austen, 1816])      1\n",
       "5           (1816], volume)      1\n",
       "6               (volume, i)      1\n",
       "7              (i, chapter)      1\n",
       "8              (chapter, i)      1\n",
       "9                 (i, emma)      1\n",
       "10       (emma, woodhouse,)      1\n",
       "11  (woodhouse,, handsome,)      1\n",
       "12     (handsome,, clever,)      1\n",
       "13           (clever,, and)      1\n",
       "14             (and, rich,)      1\n",
       "15            (rich,, with)      1\n",
       "16                (with, a)      1\n",
       "17         (a, comfortable)      1\n",
       "18      (comfortable, home)      1\n",
       "19              (home, and)      1"
      ]
     },
     "execution_count": 55,
     "metadata": {},
     "output_type": "execute_result"
    }
   ],
   "source": [
    "df2=pd.DataFrame(list(m.items()))\n",
    "df2.columns=['bigram','count']\n",
    "df2"
   ]
  },
  {
   "cell_type": "code",
   "execution_count": 56,
   "id": "ef9576df",
   "metadata": {},
   "outputs": [
    {
     "data": {
      "image/png": "[encoded data removed]",
      "text/plain": [
       "<Figure size 432x288 with 1 Axes>"
      ]
     },
     "metadata": {
      "needs_background": "light"
     },
     "output_type": "display_data"
    }
   ],
   "source": [
    "df2.plot(kind='line',x='bigram',y='count',color='brown')\n",
    "plt.show()"
   ]
  },
  {
   "cell_type": "markdown",
   "id": "8f4abce2",
   "metadata": {},
   "source": [
    "6. How many times does the word 'so' occur? What are their relative frequency against the corpus size?"
   ]
  },
  {
   "cell_type": "code",
   "execution_count": 57,
   "id": "367f5b08",
   "metadata": {},
   "outputs": [
    {
     "name": "stdout",
     "output_type": "stream",
     "text": [
      "0\n",
      "66\n"
     ]
    },
    {
     "data": {
      "text/plain": [
       "0.0"
      ]
     },
     "execution_count": 57,
     "metadata": {},
     "output_type": "execute_result"
    }
   ],
   "source": [
    "so_count=a_tokfd['so']\n",
    "print(so_count)\n",
    "tot=len(a_tokfd)\n",
    "print(tot)\n",
    "rel_freq=so_count/tot\n",
    "rel_freq"
   ]
  },
  {
   "cell_type": "markdown",
   "id": "1416e450",
   "metadata": {},
   "source": [
    "7. What are the top 20 'so-initial' bigrams and their counts?"
   ]
  },
  {
   "cell_type": "code",
   "execution_count": 58,
   "id": "c75b06d2",
   "metadata": {},
   "outputs": [
    {
     "data": {
      "text/plain": [
       "[(('so much',), 95),\n",
       " (('so very',), 76),\n",
       " (('so well',), 30),\n",
       " (('so many',), 27),\n",
       " (('so long',), 27),\n",
       " (('so little',), 20),\n",
       " (('so far',), 17),\n",
       " (('so I',), 14),\n",
       " (('so kind',), 13),\n",
       " (('so good',), 12),\n",
       " (('so often',), 10),\n",
       " (('so soon',), 9),\n",
       " (('so great',), 8),\n",
       " (('so to',), 7),\n",
       " (('so fond',), 7),\n",
       " (('so she',), 7),\n",
       " (('so it',), 6),\n",
       " (('so anxious',), 6),\n",
       " (('so as',), 6),\n",
       " (('so you',), 6)]"
      ]
     },
     "execution_count": 58,
     "metadata": {},
     "output_type": "execute_result"
    }
   ],
   "source": [
    "ab.most_common(20)"
   ]
  },
  {
   "cell_type": "markdown",
   "id": "ef323c33",
   "metadata": {},
   "source": [
    "8.Given the word 'so' as the current word, what is the probability of getting 'much' as the next word?"
   ]
  },
  {
   "cell_type": "code",
   "execution_count": 59,
   "id": "0a5eaa61",
   "metadata": {},
   "outputs": [
    {
     "data": {
      "text/plain": [
       "{('so unperceived',): 1,\n",
       " ('so far',): 17,\n",
       " ('so obliged',): 2,\n",
       " ('so mild',): 1,\n",
       " ('so much',): 95,\n",
       " ('so to',): 7,\n",
       " ('so well',): 30,\n",
       " ('so happily',): 3,\n",
       " ('so many',): 27,\n",
       " ('so long',): 27,\n",
       " ('so perfectly',): 2,\n",
       " ('so constantly',): 1,\n",
       " ('so entirely',): 4,\n",
       " ('so comfortably',): 1,\n",
       " ('so very',): 76,\n",
       " ('so kind',): 13,\n",
       " ('so avowed',): 1,\n",
       " ('so dear',): 2,\n",
       " ('so deservedly',): 1,\n",
       " ('so little',): 20,\n",
       " ('so convenient',): 1,\n",
       " ('so just',): 1,\n",
       " ('so apparent',): 1,\n",
       " ('so sorrowful',): 1,\n",
       " ('so often',): 10,\n",
       " ('so spent',): 1,\n",
       " ('so proper',): 3,\n",
       " ('so pleasantly',): 3,\n",
       " ('so artlessly',): 1,\n",
       " ('so superior',): 3,\n",
       " ('so busy',): 2,\n",
       " ('so great',): 8,\n",
       " ('so did',): 2,\n",
       " ('so fond',): 7,\n",
       " ('so plain',): 1,\n",
       " ('so forth',): 2,\n",
       " ('so it',): 6,\n",
       " ('so firmly',): 1,\n",
       " ('so totally',): 2,\n",
       " ('so genteel',): 1,\n",
       " ('so remarkably',): 2,\n",
       " ('so plainly',): 2,\n",
       " ('so _then_',): 1,\n",
       " ('so brilliant',): 1,\n",
       " ('so seldom',): 1,\n",
       " ('so happy',): 4,\n",
       " ('so warmly',): 3,\n",
       " ('so charming',): 2,\n",
       " ('so nervous',): 1,\n",
       " ('so I',): 14,\n",
       " ('so interesting',): 4,\n",
       " ('so good',): 12,\n",
       " ('so indeed',): 1,\n",
       " ('so pack',): 1,\n",
       " ('so surprized',): 2,\n",
       " ('so doubtful',): 1,\n",
       " ('so with',): 1,\n",
       " ('so completely',): 5,\n",
       " ('so anxious',): 6,\n",
       " ('so early',): 2,\n",
       " ('so contemptible',): 1,\n",
       " ('so slightingly',): 1,\n",
       " ('so by',): 1,\n",
       " ('so too',): 2,\n",
       " ('so easy',): 2,\n",
       " ('so fast',): 4,\n",
       " ('so decidedly',): 2,\n",
       " ('so bad',): 3,\n",
       " ('so loudly',): 1,\n",
       " ('so absolutely',): 2,\n",
       " ('so materially',): 1,\n",
       " ('so hard',): 1,\n",
       " ('so delightful',): 1,\n",
       " ('so pointed',): 1,\n",
       " ('so particular',): 2,\n",
       " ('so deceived',): 2,\n",
       " ('so equalled',): 1,\n",
       " ('so evidently',): 1,\n",
       " ('so palpably',): 2,\n",
       " ('so immediately',): 1,\n",
       " ('so sought',): 1,\n",
       " ('so excellent',): 1,\n",
       " ('so as',): 6,\n",
       " ('so prettily',): 1,\n",
       " ('so clever',): 2,\n",
       " ('so soon',): 9,\n",
       " ('so obliging',): 5,\n",
       " ('so extreme',): 1,\n",
       " ('so wonder',): 1,\n",
       " ('so you',): 6,\n",
       " ('so odd',): 3,\n",
       " ('so truly',): 6,\n",
       " ('so always',): 1,\n",
       " ('so silly',): 1,\n",
       " ('so satisfied',): 1,\n",
       " ('so smiling',): 1,\n",
       " ('so prosing',): 1,\n",
       " ('so undistinguishing',): 1,\n",
       " ('so apt',): 1,\n",
       " ('so dreadful',): 1,\n",
       " ('so near',): 4,\n",
       " ('so ill',): 3,\n",
       " ('so respected',): 1,\n",
       " ('so tenderly',): 1,\n",
       " ('so short',): 2,\n",
       " ('so grieved',): 1,\n",
       " ('so shocking',): 1,\n",
       " ('so conceited',): 1,\n",
       " ('so before',): 1,\n",
       " ('so pleased',): 4,\n",
       " ('so prevalent',): 1,\n",
       " ('so heavy',): 1,\n",
       " ('so swiftly',): 1,\n",
       " ('so cold',): 2,\n",
       " ('so spoken',): 1,\n",
       " ('so high',): 2,\n",
       " ('so or',): 1,\n",
       " ('so overcharged',): 1,\n",
       " ('so pleasant',): 1,\n",
       " ('so fenced',): 1,\n",
       " ('so hospitable',): 1,\n",
       " ('so interested',): 1,\n",
       " ('so delighted',): 3,\n",
       " ('so happened',): 2,\n",
       " ('so few',): 4,\n",
       " ('so sanguine',): 1,\n",
       " ('so sure',): 1,\n",
       " ('so careless',): 1,\n",
       " ('so rapidly',): 1,\n",
       " ('so that',): 4,\n",
       " ('so frequent',): 1,\n",
       " ('so sensible',): 1,\n",
       " ('so particularly',): 3,\n",
       " ('so misled',): 1,\n",
       " ('so easily',): 3,\n",
       " ('so blind',): 1,\n",
       " ('so complaisant',): 1,\n",
       " ('so full',): 2,\n",
       " ('so misinterpreted',): 1,\n",
       " ('so active',): 1,\n",
       " ('so thoroughly',): 2,\n",
       " ('so pointedly',): 1,\n",
       " ('so striking',): 1,\n",
       " ('so sudden',): 1,\n",
       " ('so industriously',): 1,\n",
       " ('so partial',): 1,\n",
       " ('so natural',): 1,\n",
       " ('so inevitable',): 1,\n",
       " ('so equal',): 2,\n",
       " ('so strong',): 4,\n",
       " ('so on',): 3,\n",
       " ('so she',): 7,\n",
       " ('so lately',): 1,\n",
       " ('so beautifully',): 1,\n",
       " ('so distinct',): 1,\n",
       " ('so considerate',): 1,\n",
       " ('so light',): 1,\n",
       " ('so off',): 2,\n",
       " ('so liberal',): 4,\n",
       " ('so intimate',): 1,\n",
       " ('so magnified',): 1,\n",
       " ('so naturally',): 2,\n",
       " ('so cautious',): 1,\n",
       " ('so attentive',): 3,\n",
       " ('so confined',): 1,\n",
       " ('so afraid',): 2,\n",
       " ('so fortunate',): 3,\n",
       " ('so deep',): 2,\n",
       " ('so miserable',): 4,\n",
       " ('so wish',): 1,\n",
       " ('so he',): 1,\n",
       " ('so kindly',): 2,\n",
       " ('so glorious',): 1,\n",
       " ('so quick',): 1,\n",
       " ('so sweetly',): 1,\n",
       " ('so inseparably',): 1,\n",
       " ('so deserving',): 1,\n",
       " ('so disappointed',): 1,\n",
       " ('so ended',): 1,\n",
       " ('so sluggish',): 1,\n",
       " ('so amiable',): 1,\n",
       " ('so quiet',): 1,\n",
       " ('so pale',): 2,\n",
       " ('so idolized',): 1,\n",
       " ('so cried',): 1,\n",
       " ('so acceptable',): 1,\n",
       " ('so properly',): 1,\n",
       " ('so reasonable',): 1,\n",
       " ('so delightfully',): 1,\n",
       " ('so rich',): 1,\n",
       " ('so warm',): 1,\n",
       " ('so noble',): 2,\n",
       " ('so large',): 1,\n",
       " ('so lovely',): 2,\n",
       " ('so handsomely',): 1,\n",
       " ('so abundant',): 1,\n",
       " ('so outree',): 1,\n",
       " ('so thoughtful',): 1,\n",
       " ('so mad',): 2,\n",
       " ('so must',): 1,\n",
       " ('so effectually',): 1,\n",
       " ('so beautiful',): 1,\n",
       " ('so glad',): 3,\n",
       " ('so nearly',): 2,\n",
       " ('so Patty',): 1,\n",
       " ('so honoured',): 1,\n",
       " ('so sorry',): 2,\n",
       " ('so shocked',): 3,\n",
       " ('so close',): 1,\n",
       " ('so imprudent',): 1,\n",
       " ('so limited',): 1,\n",
       " ('so from',): 1,\n",
       " ('so amusing',): 1,\n",
       " ('so extremely',): 5,\n",
       " ('so indifferent',): 1,\n",
       " ('so indignant',): 1,\n",
       " ('so said',): 1,\n",
       " ('so right',): 1,\n",
       " ('so wretched',): 1,\n",
       " ('so now',): 1,\n",
       " ('so occupied',): 1,\n",
       " ('so unhappy',): 1,\n",
       " ('so highly',): 1,\n",
       " ('so generally',): 1,\n",
       " ('so exactly',): 1,\n",
       " ('so double',): 1,\n",
       " ('so cheerful',): 2,\n",
       " ('so secluded',): 1,\n",
       " ('so regular',): 1,\n",
       " ('so determined',): 1,\n",
       " ('so motherly',): 1,\n",
       " ('so the',): 1,\n",
       " ('so glibly',): 1,\n",
       " ('so calculated',): 1,\n",
       " ('so thrown',): 1,\n",
       " ('so exclusively',): 1,\n",
       " ('so disgustingly',): 1,\n",
       " ('so at',): 3,\n",
       " ('so needlessly',): 1,\n",
       " ('so does',): 1,\n",
       " ('so resolutely',): 1,\n",
       " ('so would',): 1,\n",
       " ('so infinitely',): 1,\n",
       " ('so fluently',): 1,\n",
       " ('so they',): 1,\n",
       " ('so impatient',): 1,\n",
       " ('so briskly',): 1,\n",
       " ('so vigorously',): 1,\n",
       " ('so young',): 1,\n",
       " ('so hardened',): 1,\n",
       " ('so gratified',): 1,\n",
       " ('so received',): 1,\n",
       " ('so then',): 1,\n",
       " ('so and',): 1,\n",
       " ('so gratefully',): 1,\n",
       " ('so found',): 1,\n",
       " ('so placed',): 1,\n",
       " ('so lain',): 1,\n",
       " ('so his',): 1,\n",
       " ('so arranged',): 1,\n",
       " ('so moving',): 1,\n",
       " ('so walking',): 1,\n",
       " ('so when',): 1,\n",
       " ('so favourable',): 1,\n",
       " ('so late',): 1,\n",
       " ('so silent',): 1,\n",
       " ('so dull',): 1,\n",
       " ('so unfeeling',): 2,\n",
       " ('so irksome',): 1,\n",
       " ('so agitated',): 1,\n",
       " ('so brutal',): 1,\n",
       " ('so cruel',): 1,\n",
       " ('so depressed',): 1,\n",
       " ('so no',): 1,\n",
       " ('so justly',): 1,\n",
       " ('so astonished',): 1,\n",
       " ('so will',): 1,\n",
       " ('so simple',): 1,\n",
       " ('so dignified',): 1,\n",
       " ('so suddenly',): 1,\n",
       " ('so a',): 1,\n",
       " ('so herself',): 1,\n",
       " ('so peremptorily',): 1,\n",
       " ('so uneasy',): 1,\n",
       " ('so wonderful',): 1,\n",
       " ('so _very_',): 1,\n",
       " ('so expressly',): 1,\n",
       " ('so angry',): 1,\n",
       " ('so anxiously',): 1,\n",
       " ('so strange',): 1,\n",
       " ('so stoutly',): 1,\n",
       " ('so mistake',): 1,\n",
       " ('so mistaken',): 1,\n",
       " ('so dreadfully',): 1,\n",
       " ('so voluntarily',): 1,\n",
       " ('so satisfactory',): 1,\n",
       " ('so disinterested',): 1,\n",
       " ('so foolishly',): 1,\n",
       " ('so ingeniously',): 1,\n",
       " ('so entreated',): 1,\n",
       " ('so like',): 1,\n",
       " ('so cordially',): 1,\n",
       " ('so essential',): 1,\n",
       " ('so designedly',): 1,\n",
       " ('so hasty',): 1,\n",
       " ('so richly',): 1,\n",
       " ('so grateful',): 1,\n",
       " ('so tenaciously',): 1,\n",
       " ('so feeling',): 1,\n",
       " ('so engaging',): 1,\n",
       " ('so engaged',): 1,\n",
       " ('so hot',): 1,\n",
       " ('so useful',): 1,\n",
       " ('so ready',): 2,\n",
       " ('so attached',): 1,\n",
       " ('so peculiarly',): 1,\n",
       " ('so singularly',): 1,\n",
       " ('so taken',): 1,\n",
       " ('so recently',): 1,\n",
       " ('so fresh',): 1,\n",
       " ('so hateful',): 1,\n",
       " ('so heartily',): 1,\n",
       " ('so steady',): 1,\n",
       " ('so complete',): 1,\n",
       " ('so in',): 1,\n",
       " ('so suffered',): 1}"
      ]
     },
     "execution_count": 59,
     "metadata": {},
     "output_type": "execute_result"
    }
   ],
   "source": [
    "ab_dict=dict(ab)\n",
    "ab_dict"
   ]
  },
  {
   "cell_type": "code",
   "execution_count": 60,
   "id": "6f78caa6",
   "metadata": {},
   "outputs": [
    {
     "data": {
      "text/plain": [
       "326"
      ]
     },
     "execution_count": 60,
     "metadata": {},
     "output_type": "execute_result"
    }
   ],
   "source": [
    "tot_occ=len(ab_dict)\n",
    "tot_occ"
   ]
  },
  {
   "cell_type": "code",
   "execution_count": 61,
   "id": "f12b96be",
   "metadata": {},
   "outputs": [
    {
     "name": "stdout",
     "output_type": "stream",
     "text": [
      "('so much',) 95\n",
      "0.003067484662576687\n"
     ]
    }
   ],
   "source": [
    "for i,j in ab_dict.items():\n",
    "    if i==('so much',):\n",
    "        print(i,j)\n",
    "print(j/tot_occ)"
   ]
  },
  {
   "cell_type": "markdown",
   "id": "01ecd1a5",
   "metadata": {},
   "source": [
    "9.Given the word 'so' as the current word, what is the probability of getting 'will' as the next word?"
   ]
  },
  {
   "cell_type": "code",
   "execution_count": 62,
   "id": "c6fb19b5",
   "metadata": {},
   "outputs": [
    {
     "name": "stdout",
     "output_type": "stream",
     "text": [
      "('so will',) 1\n",
      "0.003067484662576687\n"
     ]
    }
   ],
   "source": [
    "for i,j in ab_dict.items():\n",
    "    if i==('so will',):\n",
    "        print(i,j)\n",
    "print(j/tot_occ)"
   ]
  },
  {
   "cell_type": "code",
   "execution_count": null,
   "id": "1746fafc",
   "metadata": {},
   "outputs": [],
   "source": []
  }
 ],
 "metadata": {
  "kernelspec": {
   "display_name": "Python 3 (ipykernel)",
   "language": "python",
   "name": "python3"
  },
  "language_info": {
   "codemirror_mode": {
    "name": "ipython",
    "version": 3
   },
   "file_extension": ".py",
   "mimetype": "text/x-python",
   "name": "python",
   "nbconvert_exporter": "python",
   "pygments_lexer": "ipython3",
   "version": "3.9.12"
  }
 },
 "nbformat": 4,
 "nbformat_minor": 5
}
